{
 "cells": [
  {
   "cell_type": "markdown",
   "metadata": {},
   "source": [
    "# Introduction to NumPy\n",
    "\n",
    "\n",
    "#### 1. Import NumPy under the name np."
   ]
  },
  {
   "cell_type": "code",
   "execution_count": 11,
   "metadata": {},
   "outputs": [],
   "source": [
    "# your code here\n",
    "import numpy as np"
   ]
  },
  {
   "cell_type": "markdown",
   "metadata": {},
   "source": [
    "#### 2. Print your NumPy version."
   ]
  },
  {
   "cell_type": "code",
   "execution_count": 12,
   "metadata": {},
   "outputs": [
    {
     "name": "stdout",
     "output_type": "stream",
     "text": [
      "1.18.1\n"
     ]
    }
   ],
   "source": [
    "# your code here\n",
    "print(np.__version__)"
   ]
  },
  {
   "cell_type": "markdown",
   "metadata": {},
   "source": [
    "#### 3. Generate a 2x3x5 3-dimensional array with random values. Assign the array to variable *a*.\n",
    "**Challenge**: there are at least three easy ways that use numpy to generate random arrays. How many ways can you find?"
   ]
  },
  {
   "cell_type": "code",
   "execution_count": 13,
   "metadata": {},
   "outputs": [
    {
     "name": "stdout",
     "output_type": "stream",
     "text": [
      "[[[0.63939361 0.51316016 0.11026536 0.31094401 0.05692798]\n",
      "  [0.16548273 0.66296058 0.94588093 0.80980536 0.84914664]\n",
      "  [0.27526472 0.68682644 0.53212087 0.65418503 0.95060959]]\n",
      "\n",
      " [[0.24087408 0.88511998 0.72120309 0.98223972 0.13025567]\n",
      "  [0.13387642 0.45010197 0.20968447 0.35167311 0.54927903]\n",
      "  [0.5234371  0.02230241 0.09044201 0.83168528 0.51705814]]]\n"
     ]
    }
   ],
   "source": [
    "# Method 1\n",
    "a = np.random.random((2,3,5))\n",
    "print(a)"
   ]
  },
  {
   "cell_type": "code",
   "execution_count": 14,
   "metadata": {},
   "outputs": [
    {
     "name": "stdout",
     "output_type": "stream",
     "text": [
      "[[[0.77273907 0.64109883 0.92381332 0.66887275 0.34431429]\n",
      "  [0.08082953 0.53406844 0.41582496 0.47068047 0.18879294]\n",
      "  [0.96493926 0.11924011 0.25336694 0.76712047 0.50549025]]\n",
      "\n",
      " [[0.49774995 0.71303261 0.42976368 0.5279124  0.99527733]\n",
      "  [0.91975306 0.61853738 0.94871108 0.28755688 0.87888769]\n",
      "  [0.55132713 0.83809702 0.00268593 0.0506758  0.04650854]]]\n"
     ]
    }
   ],
   "source": [
    "# Method 2\n",
    "a2 = np.random.rand(2,3,5)\n",
    "print(a2)"
   ]
  },
  {
   "cell_type": "code",
   "execution_count": 15,
   "metadata": {},
   "outputs": [
    {
     "name": "stdout",
     "output_type": "stream",
     "text": [
      "[[[0.373882   0.96472955 0.36550802 0.64510114 0.1128276 ]\n",
      "  [0.87321939 0.91525672 0.22740821 0.19949511 0.23635447]\n",
      "  [0.75217858 0.8811529  0.82244104 0.85981272 0.71070707]]\n",
      "\n",
      " [[0.01390217 0.69960574 0.02537975 0.2290013  0.69063185]\n",
      "  [0.16943544 0.59613125 0.82047826 0.73527537 0.67994531]\n",
      "  [0.4490206  0.42332022 0.76151185 0.48667794 0.30170287]]]\n"
     ]
    }
   ],
   "source": [
    "# Method 3\n",
    "a3 = np.random.sample((2,3,5))\n",
    "print(a3)"
   ]
  },
  {
   "cell_type": "markdown",
   "metadata": {},
   "source": [
    "#### 4. Print *a*.\n"
   ]
  },
  {
   "cell_type": "code",
   "execution_count": 16,
   "metadata": {},
   "outputs": [
    {
     "name": "stdout",
     "output_type": "stream",
     "text": [
      "[[[0.63939361 0.51316016 0.11026536 0.31094401 0.05692798]\n",
      "  [0.16548273 0.66296058 0.94588093 0.80980536 0.84914664]\n",
      "  [0.27526472 0.68682644 0.53212087 0.65418503 0.95060959]]\n",
      "\n",
      " [[0.24087408 0.88511998 0.72120309 0.98223972 0.13025567]\n",
      "  [0.13387642 0.45010197 0.20968447 0.35167311 0.54927903]\n",
      "  [0.5234371  0.02230241 0.09044201 0.83168528 0.51705814]]]\n"
     ]
    }
   ],
   "source": [
    "# your code here\n",
    "print(a)"
   ]
  },
  {
   "cell_type": "markdown",
   "metadata": {},
   "source": [
    "#### 5. Create a 5x2x3 3-dimensional array with all values equaling 1. Assign the array to variable *b*."
   ]
  },
  {
   "cell_type": "code",
   "execution_count": 17,
   "metadata": {},
   "outputs": [],
   "source": [
    "# your code here\n",
    "b = np.ones((5,2,3))"
   ]
  },
  {
   "cell_type": "markdown",
   "metadata": {},
   "source": [
    "#### 6. Print *b*.\n"
   ]
  },
  {
   "cell_type": "code",
   "execution_count": 18,
   "metadata": {},
   "outputs": [
    {
     "name": "stdout",
     "output_type": "stream",
     "text": [
      "[[[1. 1. 1.]\n",
      "  [1. 1. 1.]]\n",
      "\n",
      " [[1. 1. 1.]\n",
      "  [1. 1. 1.]]\n",
      "\n",
      " [[1. 1. 1.]\n",
      "  [1. 1. 1.]]\n",
      "\n",
      " [[1. 1. 1.]\n",
      "  [1. 1. 1.]]\n",
      "\n",
      " [[1. 1. 1.]\n",
      "  [1. 1. 1.]]]\n"
     ]
    }
   ],
   "source": [
    "# your code here\n",
    "print(b)"
   ]
  },
  {
   "cell_type": "markdown",
   "metadata": {},
   "source": [
    "#### 7. Do *a* and *b* have the same size? How do you prove that in Python code?"
   ]
  },
  {
   "cell_type": "code",
   "execution_count": 19,
   "metadata": {},
   "outputs": [
    {
     "name": "stdout",
     "output_type": "stream",
     "text": [
      "30\n",
      "30\n"
     ]
    }
   ],
   "source": [
    "# your code here\n",
    "print(a.size)\n",
    "print(b.size)"
   ]
  },
  {
   "cell_type": "markdown",
   "metadata": {},
   "source": [
    "#### 8. Are you able to add *a* and *b*? Why or why not?\n"
   ]
  },
  {
   "cell_type": "code",
   "execution_count": 20,
   "metadata": {},
   "outputs": [],
   "source": [
    "# your answer here"
   ]
  },
  {
   "cell_type": "markdown",
   "metadata": {},
   "source": [
    "#### 9. Transpose *b* so that it has the same structure of *a* (i.e. become a 2x3x5 array). Assign the transposed array to variable *c*."
   ]
  },
  {
   "cell_type": "code",
   "execution_count": 21,
   "metadata": {},
   "outputs": [
    {
     "name": "stdout",
     "output_type": "stream",
     "text": [
      "[[[1. 1. 1. 1. 1.]\n",
      "  [1. 1. 1. 1. 1.]\n",
      "  [1. 1. 1. 1. 1.]]\n",
      "\n",
      " [[1. 1. 1. 1. 1.]\n",
      "  [1. 1. 1. 1. 1.]\n",
      "  [1. 1. 1. 1. 1.]]]\n"
     ]
    }
   ],
   "source": [
    "# your code here\n",
    "c = b.transpose(1,2,0)\n",
    "print (c)"
   ]
  },
  {
   "cell_type": "markdown",
   "metadata": {},
   "source": [
    "#### 10. Try to add *a* and *c*. Now it should work. Assign the sum to variable *d*. But why does it work now?"
   ]
  },
  {
   "cell_type": "code",
   "execution_count": 22,
   "metadata": {},
   "outputs": [
    {
     "name": "stdout",
     "output_type": "stream",
     "text": [
      "[[[1.63939361 1.51316016 1.11026536 1.31094401 1.05692798]\n",
      "  [1.16548273 1.66296058 1.94588093 1.80980536 1.84914664]\n",
      "  [1.27526472 1.68682644 1.53212087 1.65418503 1.95060959]]\n",
      "\n",
      " [[1.24087408 1.88511998 1.72120309 1.98223972 1.13025567]\n",
      "  [1.13387642 1.45010197 1.20968447 1.35167311 1.54927903]\n",
      "  [1.5234371  1.02230241 1.09044201 1.83168528 1.51705814]]]\n"
     ]
    }
   ],
   "source": [
    "# your code/answer here\n",
    "d = np.add(a,c)\n",
    "print(d)"
   ]
  },
  {
   "cell_type": "markdown",
   "metadata": {},
   "source": [
    "#### 11. Print *a* and *d*. Notice the difference and relation of the two array in terms of the values? Explain."
   ]
  },
  {
   "cell_type": "code",
   "execution_count": 48,
   "metadata": {},
   "outputs": [
    {
     "name": "stdout",
     "output_type": "stream",
     "text": [
      "[[[0.63939361 0.51316016 0.11026536 0.31094401 0.05692798]\n",
      "  [0.16548273 0.66296058 0.94588093 0.80980536 0.84914664]\n",
      "  [0.27526472 0.68682644 0.53212087 0.65418503 0.95060959]]\n",
      "\n",
      " [[0.24087408 0.88511998 0.72120309 0.98223972 0.13025567]\n",
      "  [0.13387642 0.45010197 0.20968447 0.35167311 0.54927903]\n",
      "  [0.5234371  0.02230241 0.09044201 0.83168528 0.51705814]]]\n",
      "----------------------------------------------------------\n",
      "[[[1.63939361 1.51316016 1.11026536 1.31094401 1.05692798]\n",
      "  [1.16548273 1.66296058 1.94588093 1.80980536 1.84914664]\n",
      "  [1.27526472 1.68682644 1.53212087 1.65418503 1.95060959]]\n",
      "\n",
      " [[1.24087408 1.88511998 1.72120309 1.98223972 1.13025567]\n",
      "  [1.13387642 1.45010197 1.20968447 1.35167311 1.54927903]\n",
      "  [1.5234371  1.02230241 1.09044201 1.83168528 1.51705814]]]\n"
     ]
    }
   ],
   "source": [
    "# your code/answer here\n",
    "print(a)\n",
    "print(\"----------------------------------------------------------\")\n",
    "print(d)\n",
    "\n",
    "#the difference is that d = a+1, for all the values in the array"
   ]
  },
  {
   "cell_type": "markdown",
   "metadata": {},
   "source": [
    "#### 12. Multiply *a* and *c*. Assign the result to *e*."
   ]
  },
  {
   "cell_type": "code",
   "execution_count": 24,
   "metadata": {},
   "outputs": [
    {
     "name": "stdout",
     "output_type": "stream",
     "text": [
      "[[[0.63939361 0.51316016 0.11026536 0.31094401 0.05692798]\n",
      "  [0.16548273 0.66296058 0.94588093 0.80980536 0.84914664]\n",
      "  [0.27526472 0.68682644 0.53212087 0.65418503 0.95060959]]\n",
      "\n",
      " [[0.24087408 0.88511998 0.72120309 0.98223972 0.13025567]\n",
      "  [0.13387642 0.45010197 0.20968447 0.35167311 0.54927903]\n",
      "  [0.5234371  0.02230241 0.09044201 0.83168528 0.51705814]]]\n"
     ]
    }
   ],
   "source": [
    "# your code here\n",
    "e = np.multiply(a,c)\n",
    "print(e)"
   ]
  },
  {
   "cell_type": "markdown",
   "metadata": {},
   "source": [
    "#### 13. Does *e* equal to *a*? Why or why not?\n"
   ]
  },
  {
   "cell_type": "code",
   "execution_count": 25,
   "metadata": {},
   "outputs": [
    {
     "data": {
      "text/plain": [
       "array([[[ True,  True,  True,  True,  True],\n",
       "        [ True,  True,  True,  True,  True],\n",
       "        [ True,  True,  True,  True,  True]],\n",
       "\n",
       "       [[ True,  True,  True,  True,  True],\n",
       "        [ True,  True,  True,  True,  True],\n",
       "        [ True,  True,  True,  True,  True]]])"
      ]
     },
     "execution_count": 25,
     "metadata": {},
     "output_type": "execute_result"
    }
   ],
   "source": [
    "# your code/answer here\n",
    "a == e\n",
    "#yes! beacuse e=a*c, and all values in c are 1."
   ]
  },
  {
   "cell_type": "markdown",
   "metadata": {},
   "source": [
    "#### 14. Identify the max, min, and mean values in *d*. Assign those values to variables *d_max*, *d_min* and *d_mean*."
   ]
  },
  {
   "cell_type": "code",
   "execution_count": 29,
   "metadata": {},
   "outputs": [
    {
     "name": "stdout",
     "output_type": "stream",
     "text": [
      "1.9822397249557064\n",
      "1.0223024090432187\n",
      "1.4934068824031341\n"
     ]
    }
   ],
   "source": [
    "# your code here\n",
    "d_max = np.max(d)\n",
    "d_min = np.min(d)\n",
    "d_mean = np.mean(d)\n",
    "print(d_max)\n",
    "print(d_min)\n",
    "print(d_mean)"
   ]
  },
  {
   "cell_type": "markdown",
   "metadata": {},
   "source": [
    "#### 15. Now we want to label the values in *d*. First create an empty array *f* with the same shape (i.e. 2x3x5) as *d* using `np.empty`.\n"
   ]
  },
  {
   "cell_type": "code",
   "execution_count": 26,
   "metadata": {},
   "outputs": [
    {
     "name": "stdout",
     "output_type": "stream",
     "text": [
      "(2, 3, 5)\n"
     ]
    }
   ],
   "source": [
    "# your code here\n",
    "f = np.empty((2,3,5))\n",
    "print(f.shape)"
   ]
  },
  {
   "cell_type": "markdown",
   "metadata": {},
   "source": [
    "#### 16. Populate the values in *f*. \n",
    "\n",
    "For each value in *d*, if it's larger than *d_min* but smaller than *d_mean*, assign 25 to the corresponding value in *f*. If a value in *d* is larger than *d_mean* but smaller than *d_max*, assign 75 to the corresponding value in *f*. If a value equals to *d_mean*, assign 50 to the corresponding value in *f*. Assign 0 to the corresponding value(s) in *f* for *d_min* in *d*. Assign 100 to the corresponding value(s) in *f* for *d_max* in *d*. In the end, f should have only the following values: 0, 25, 50, 75, and 100.\n",
    "\n",
    "**Note**: you don't have to use Numpy in this question."
   ]
  },
  {
   "cell_type": "code",
   "execution_count": 38,
   "metadata": {},
   "outputs": [
    {
     "name": "stdout",
     "output_type": "stream",
     "text": [
      "[[[ 75.  75.  25.  25.  25.]\n",
      "  [ 25.  75.  75.  75.  75.]\n",
      "  [ 25.  75.  75.  75.  75.]]\n",
      "\n",
      " [[ 25.  75.  75. 100.  25.]\n",
      "  [ 25.  25.  25.  25.  75.]\n",
      "  [ 75.   0.  25.  75.  75.]]]\n"
     ]
    }
   ],
   "source": [
    "# your code here\n",
    "for x in range(d.shape[0]):\n",
    "    for y in range(d.shape[1]):\n",
    "        for z in range(d.shape[2]):\n",
    "            if d[x][y][z] > d_min and d[x][y][z] < d_mean:\n",
    "                f[x][y][z] = (25)\n",
    "            elif d[x][y][z] > d_mean and d[x][y][z] < d_max:\n",
    "                f[x][y][z] = (75)\n",
    "            elif d[x][y][z] == d_mean:\n",
    "                f[x][y][z] = (50)\n",
    "            elif d[x][y][z] == d_min:\n",
    "                f[x][y][z] = (0)\n",
    "            elif d[x][y][z] == d_max:\n",
    "                f[x][y][z] = (100)\n",
    "print(f)"
   ]
  },
  {
   "cell_type": "markdown",
   "metadata": {},
   "source": [
    "#### 17. Print *d* and *f*. Do you have your expected *f*?\n",
    "For instance, if your *d* is:\n",
    "```python\n",
    "[[[1.85836099, 1.67064465, 1.62576044, 1.40243961, 1.88454931],\n",
    "[1.75354326, 1.69403643, 1.36729252, 1.61415071, 1.12104981],\n",
    "[1.72201435, 1.1862918 , 1.87078449, 1.7726778 , 1.88180042]],\n",
    "[[1.44747908, 1.31673383, 1.02000951, 1.52218947, 1.97066381],\n",
    "[1.79129243, 1.74983003, 1.96028037, 1.85166831, 1.65450881],\n",
    "[1.18068344, 1.9587381 , 1.00656599, 1.93402165, 1.73514584]]]\n",
    "```\n",
    "Your *f* should be:\n",
    "```python\n",
    "[[[ 75.,  75.,  75.,  25.,  75.],\n",
    "[ 75.,  75.,  25.,  25.,  25.],\n",
    "[ 75.,  25.,  75.,  75.,  75.]],\n",
    "[[ 25.,  25.,  25.,  25., 100.],\n",
    "[ 75.,  75.,  75.,  75.,  75.],\n",
    "[ 25.,  75.,   0.,  75.,  75.]]]\n",
    "```"
   ]
  },
  {
   "cell_type": "code",
   "execution_count": 49,
   "metadata": {},
   "outputs": [
    {
     "name": "stdout",
     "output_type": "stream",
     "text": [
      "[[[1.63939361 1.51316016 1.11026536 1.31094401 1.05692798]\n",
      "  [1.16548273 1.66296058 1.94588093 1.80980536 1.84914664]\n",
      "  [1.27526472 1.68682644 1.53212087 1.65418503 1.95060959]]\n",
      "\n",
      " [[1.24087408 1.88511998 1.72120309 1.98223972 1.13025567]\n",
      "  [1.13387642 1.45010197 1.20968447 1.35167311 1.54927903]\n",
      "  [1.5234371  1.02230241 1.09044201 1.83168528 1.51705814]]]\n",
      "[[[ 75.  75.  25.  25.  25.]\n",
      "  [ 25.  75.  75.  75.  75.]\n",
      "  [ 25.  75.  75.  75.  75.]]\n",
      "\n",
      " [[ 25.  75.  75. 100.  25.]\n",
      "  [ 25.  25.  25.  25.  75.]\n",
      "  [ 75.   0.  25.  75.  75.]]]\n"
     ]
    }
   ],
   "source": [
    "# your code here\n",
    "print(d)\n",
    "print(f)"
   ]
  },
  {
   "cell_type": "markdown",
   "metadata": {},
   "source": [
    "#### 18. Bonus question: instead of using numbers (i.e. 0, 25, 50, 75, and 100), use string values  (\"A\", \"B\", \"C\", \"D\", and \"E\") to label the array elements. For the example above, the expected result is:\n",
    "\n",
    "```python\n",
    "[[[ 'D',  'D',  'D',  'B',  'D'],\n",
    "[ 'D',  'D',  'B',  'B',  'B'],\n",
    "[ 'D',  'B',  'D',  'D',  'D']],\n",
    "[[ 'B',  'B',  'B',  'B',  'E'],\n",
    "[ 'D',  'D',  'D',  'D',  'D'],\n",
    "[ 'B',  'D',   'A',  'D', 'D']]]\n",
    "```\n",
    "**Note**: you don't have to use Numpy in this question."
   ]
  },
  {
   "cell_type": "code",
   "execution_count": 65,
   "metadata": {},
   "outputs": [
    {
     "name": "stdout",
     "output_type": "stream",
     "text": [
      "[[['B' 'B' 'A' 'A' 'A']\n",
      "  ['A' 'B' 'B' 'B' 'B']\n",
      "  ['A' 'B' 'B' 'B' 'B']]\n",
      "\n",
      " [['A' 'B' 'B' 'E' 'A']\n",
      "  ['A' 'A' 'A' 'A' 'B']\n",
      "  ['B' 'D' 'A' 'B' 'B']]]\n"
     ]
    }
   ],
   "source": [
    "# your code here\n",
    "dd = d.astype(object)\n",
    "ff = f.astype(object)\n",
    "\n",
    "for x in range(dd.shape[0]):\n",
    "    for y in range(dd.shape[1]):\n",
    "        for z in range(dd.shape[2]):\n",
    "            if dd[x][y][z] > d_min and dd[x][y][z] < d_mean:\n",
    "                ff[x][y][z] = (\"A\")\n",
    "            elif dd[x][y][z] > d_mean and dd[x][y][z] < d_max:\n",
    "                ff[x][y][z] = (\"B\")\n",
    "            elif dd[x][y][z] == d_mean:\n",
    "                ff[x][y][z] = (\"C\")\n",
    "            elif dd[x][y][z] == d_min:\n",
    "                ff[x][y][z] = (\"D\")\n",
    "            elif dd[x][y][z] == d_max:\n",
    "                ff[x][y][z] = (\"E\")\n",
    "print(ff)"
   ]
  }
 ],
 "metadata": {
  "kernelspec": {
   "display_name": "Python [conda env:ironhack_env]",
   "language": "python",
   "name": "conda-env-ironhack_env-py"
  },
  "language_info": {
   "codemirror_mode": {
    "name": "ipython",
    "version": 3
   },
   "file_extension": ".py",
   "mimetype": "text/x-python",
   "name": "python",
   "nbconvert_exporter": "python",
   "pygments_lexer": "ipython3",
   "version": "3.7.7"
  }
 },
 "nbformat": 4,
 "nbformat_minor": 2
}
