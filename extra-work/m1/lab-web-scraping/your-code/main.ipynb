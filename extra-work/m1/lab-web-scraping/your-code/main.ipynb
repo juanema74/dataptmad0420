{
 "cells": [
  {
   "cell_type": "markdown",
   "metadata": {},
   "source": [
    "# Web Scraping Lab\n",
    "\n",
    "You will find in this notebook some scrapy exercises to practise your scraping skills.\n",
    "\n",
    "**Tips:**\n",
    "\n",
    "- Check the response status code for each request to ensure you have obtained the intended content.\n",
    "- Print the response text in each request to understand the kind of info you are getting and its format.\n",
    "- Check for patterns in the response text to extract the data/info requested in each question.\n",
    "- Visit the urls below and take a look at their source code through Chrome DevTools. You'll need to identify the html tags, special class names, etc used in the html content you are expected to extract.\n",
    "\n",
    "**Resources**:\n",
    "- [Requests library](http://docs.python-requests.org/en/master/#the-user-guide)\n",
    "- [Beautiful Soup Doc](https://www.crummy.com/software/BeautifulSoup/bs4/doc/)\n",
    "- [Urllib](https://docs.python.org/3/library/urllib.html#module-urllib)\n",
    "- [re lib](https://docs.python.org/3/library/re.html)\n",
    "- [lxml lib](https://lxml.de/)\n",
    "- [Scrapy](https://scrapy.org/)\n",
    "- [List of HTTP status codes](https://en.wikipedia.org/wiki/List_of_HTTP_status_codes)\n",
    "- [HTML basics](http://www.simplehtmlguide.com/cheatsheet.php)\n",
    "- [CSS basics](https://www.cssbasics.com/#page_start)"
   ]
  },
  {
   "cell_type": "markdown",
   "metadata": {},
   "source": [
    "#### Below are the libraries and modules you may need. `requests`,  `BeautifulSoup` and `pandas` are already imported for you. If you prefer to use additional libraries feel free to do it."
   ]
  },
  {
   "cell_type": "code",
   "execution_count": 1,
   "metadata": {},
   "outputs": [],
   "source": [
    "import requests\n",
    "from bs4 import BeautifulSoup\n",
    "import pandas as pd"
   ]
  },
  {
   "cell_type": "markdown",
   "metadata": {},
   "source": [
    "#### Download, parse (using BeautifulSoup), and print the content from the Trending Developers page from GitHub:"
   ]
  },
  {
   "cell_type": "code",
   "execution_count": 2,
   "metadata": {},
   "outputs": [],
   "source": [
    "# This is the url you will scrape in this exercise\n",
    "url = 'https://github.com/trending/developers'"
   ]
  },
  {
   "cell_type": "code",
   "execution_count": 40,
   "metadata": {},
   "outputs": [],
   "source": [
    "# your code here\n",
    "gitDev = requests.get(url)\n",
    "soup = BeautifulSoup(gitDev.text, 'html.parser')"
   ]
  },
  {
   "cell_type": "markdown",
   "metadata": {},
   "source": [
    "#### Display the names of the trending developers retrieved in the previous step.\n",
    "\n",
    "Your output should be a Python list of developer names. Each name should not contain any html tag.\n",
    "\n",
    "**Instructions:**\n",
    "\n",
    "1. Find out the html tag and class names used for the developer names. You can achieve this using Chrome DevTools.\n",
    "\n",
    "1. Use BeautifulSoup to extract all the html elements that contain the developer names.\n",
    "\n",
    "1. Use string manipulation techniques to replace whitespaces and linebreaks (i.e. `\\n`) in the *text* of each html element. Use a list to store the clean names.\n",
    "\n",
    "1. Print the list of names.\n",
    "\n",
    "Your output should look like below:\n",
    "\n",
    "```\n",
    "['trimstray (@trimstray)',\n",
    " 'joewalnes (JoeWalnes)',\n",
    " 'charlax (Charles-AxelDein)',\n",
    " 'ForrestKnight (ForrestKnight)',\n",
    " 'revery-ui (revery-ui)',\n",
    " 'alibaba (Alibaba)',\n",
    " 'Microsoft (Microsoft)',\n",
    " 'github (GitHub)',\n",
    " 'facebook (Facebook)',\n",
    " 'boazsegev (Bo)',\n",
    " 'google (Google)',\n",
    " 'cloudfetch',\n",
    " 'sindresorhus (SindreSorhus)',\n",
    " 'tensorflow',\n",
    " 'apache (TheApacheSoftwareFoundation)',\n",
    " 'DevonCrawford (DevonCrawford)',\n",
    " 'ARMmbed (ArmMbed)',\n",
    " 'vuejs (vuejs)',\n",
    " 'fastai (fast.ai)',\n",
    " 'QiShaoXuan (Qi)',\n",
    " 'joelparkerhenderson (JoelParkerHenderson)',\n",
    " 'torvalds (LinusTorvalds)',\n",
    " 'CyC2018',\n",
    " 'komeiji-satori (神楽坂覚々)',\n",
    " 'script-8']\n",
    " ```"
   ]
  },
  {
   "cell_type": "code",
   "execution_count": 41,
   "metadata": {},
   "outputs": [
    {
     "name": "stdout",
     "output_type": "stream",
     "text": [
      "wkentaro Kentaro Wada\n",
      "appleboy Bo-Yi Wu\n",
      "frenck Franck Nijhof\n",
      "MaxDesiatov Max Desiatov\n",
      "hirofumi0810 Hirofumi Inaguma\n",
      "mgechev Minko Gechev\n",
      "vadimdemedes Vadim Demedes\n",
      "klauspost Klaus Post\n",
      "JonRowe Jon Rowe\n",
      "kylef Kyle Fuller\n",
      "jsha Jacob Hoffman-Andrews\n",
      "lucidrains Phil Wang\n",
      "ADmad ADmad\n",
      "PragatiVerma18 Pragati Verma\n",
      "brickspert 砖家\n",
      "paulb777 Paul Beusterien\n",
      "mrdoob Mr.doob\n",
      "punker76 Jan Karger ツ ☀\n",
      "snipe snipe\n",
      "XAMPPRocky XAMPPRocky\n",
      "brikis98 Yevgeniy Brikman\n",
      "mpociot Marcel Pociot\n",
      "ferhatelmas ferhat elmas\n",
      "matteocrippa Matteo Crippa\n",
      "kripken Alon Zakai\n"
     ]
    }
   ],
   "source": [
    "# your code here\n",
    "trending_devs = []\n",
    "for tag in soup.select('.h3.lh-condensed a'):\n",
    "    trending_devs.append(tag)\n",
    "for i in trending_devs:\n",
    "    print(i['href'].replace(\"/\",\"\"), i.text.strip())"
   ]
  },
  {
   "cell_type": "markdown",
   "metadata": {},
   "source": [
    "#### Display the trending Python repositories in GitHub.\n",
    "\n",
    "The steps to solve this problem is similar to the previous one except that you need to find out the repository names instead of developer names."
   ]
  },
  {
   "cell_type": "code",
   "execution_count": 43,
   "metadata": {},
   "outputs": [],
   "source": [
    "# This is the url you will scrape in this exercise\n",
    "url_rep = 'https://github.com/trending/python?since=daily'"
   ]
  },
  {
   "cell_type": "code",
   "execution_count": 44,
   "metadata": {},
   "outputs": [],
   "source": [
    "gitRep = requests.get(url_rep)\n",
    "soup = BeautifulSoup(gitRep.text, 'html.parser')"
   ]
  },
  {
   "cell_type": "code",
   "execution_count": 46,
   "metadata": {},
   "outputs": [
    {
     "name": "stdout",
     "output_type": "stream",
     "text": [
      "jackzhenguopython-small-examples\n",
      "adamian98pulse\n",
      "gto76python-cheatsheet\n",
      "public-apispublic-apis\n",
      "cythoncython\n",
      "ckanckan\n",
      "mementumbacktrader\n",
      "hankcsHanLP\n",
      "datawireambassador\n",
      "nccgroupScoutSuite\n",
      "schenkdnginx-ui\n",
      "FederatedAIFATE\n",
      "Pure-L0G1CInstagram\n",
      "Fizzadarpyinfra\n",
      "microsofthummingbird\n",
      "iperovDeepFaceLab\n",
      "AvinashReddy3108YetAnotherSMSBomber\n",
      "Mebuscupp\n",
      "demistocontent\n",
      "smicallefspiderfoot\n",
      "donnemartinsystem-design-primer\n",
      "googlejax\n",
      "DataDogdatadogpy\n",
      "minivision-aiphoto2cartoon\n",
      "huggingfacetransformers\n"
     ]
    }
   ],
   "source": [
    "# your code here\n",
    "trending_reps = []\n",
    "for tag in soup.select('.h3.lh-condensed a'):\n",
    "    trending_reps.append(tag)\n",
    "for i in trending_reps:\n",
    "    print(i['href'].replace(\"/\",\"\"))"
   ]
  },
  {
   "cell_type": "markdown",
   "metadata": {},
   "source": [
    "#### Display all the image links from Walt Disney wikipedia page."
   ]
  },
  {
   "cell_type": "code",
   "execution_count": 47,
   "metadata": {},
   "outputs": [],
   "source": [
    "# This is the url you will scrape in this exercise\n",
    "url_wd = 'https://en.wikipedia.org/wiki/Walt_Disney'"
   ]
  },
  {
   "cell_type": "code",
   "execution_count": 51,
   "metadata": {},
   "outputs": [],
   "source": [
    "# your code here\n",
    "wd_img = requests.get(url_wd)\n",
    "soup = BeautifulSoup(wd_img.text, 'html.parser')"
   ]
  },
  {
   "cell_type": "code",
   "execution_count": 53,
   "metadata": {},
   "outputs": [
    {
     "name": "stdout",
     "output_type": "stream",
     "text": [
      "//upload.wikimedia.org/wikipedia/en/thumb/e/e7/Cscr-featured.svg/20px-Cscr-featured.svg.png\n",
      "//upload.wikimedia.org/wikipedia/en/thumb/8/8c/Extended-protection-shackle.svg/20px-Extended-protection-shackle.svg.png\n",
      "//upload.wikimedia.org/wikipedia/commons/thumb/d/df/Walt_Disney_1946.JPG/220px-Walt_Disney_1946.JPG\n",
      "//upload.wikimedia.org/wikipedia/commons/thumb/8/87/Walt_Disney_1942_signature.svg/150px-Walt_Disney_1942_signature.svg.png\n",
      "//upload.wikimedia.org/wikipedia/commons/thumb/c/c4/Walt_Disney_envelope_ca._1921.jpg/220px-Walt_Disney_envelope_ca._1921.jpg\n",
      "//upload.wikimedia.org/wikipedia/commons/thumb/4/4d/Newman_Laugh-O-Gram_%281921%29.webm/220px-seek%3D2-Newman_Laugh-O-Gram_%281921%29.webm.jpg\n",
      "//upload.wikimedia.org/wikipedia/commons/thumb/0/0d/Trolley_Troubles_poster.jpg/170px-Trolley_Troubles_poster.jpg\n",
      "//upload.wikimedia.org/wikipedia/commons/thumb/7/71/Walt_Disney_and_his_cartoon_creation_%22Mickey_Mouse%22_-_National_Board_of_Review_Magazine.jpg/170px-Walt_Disney_and_his_cartoon_creation_%22Mickey_Mouse%22_-_National_Board_of_Review_Magazine.jpg\n",
      "//upload.wikimedia.org/wikipedia/en/thumb/4/4e/Steamboat-willie.jpg/170px-Steamboat-willie.jpg\n",
      "//upload.wikimedia.org/wikipedia/commons/thumb/5/57/Walt_Disney_1935.jpg/170px-Walt_Disney_1935.jpg\n",
      "//upload.wikimedia.org/wikipedia/commons/thumb/c/cd/Walt_Disney_Snow_white_1937_trailer_screenshot_%2813%29.jpg/220px-Walt_Disney_Snow_white_1937_trailer_screenshot_%2813%29.jpg\n",
      "//upload.wikimedia.org/wikipedia/commons/thumb/1/15/Disney_drawing_goofy.jpg/170px-Disney_drawing_goofy.jpg\n",
      "//upload.wikimedia.org/wikipedia/commons/thumb/1/13/DisneySchiphol1951.jpg/220px-DisneySchiphol1951.jpg\n",
      "//upload.wikimedia.org/wikipedia/commons/thumb/8/8c/WaltDisneyplansDisneylandDec1954.jpg/220px-WaltDisneyplansDisneylandDec1954.jpg\n",
      "//upload.wikimedia.org/wikipedia/commons/thumb/f/ff/Walt_disney_portrait_right.jpg/170px-Walt_disney_portrait_right.jpg\n",
      "//upload.wikimedia.org/wikipedia/commons/thumb/1/1a/Walt_Disney_Grave.JPG/170px-Walt_Disney_Grave.JPG\n",
      "//upload.wikimedia.org/wikipedia/commons/thumb/2/2d/Roy_O._Disney_with_Company_at_Press_Conference.jpg/170px-Roy_O._Disney_with_Company_at_Press_Conference.jpg\n",
      "//upload.wikimedia.org/wikipedia/commons/thumb/a/a9/Disney_Display_Case.JPG/170px-Disney_Display_Case.JPG\n",
      "//upload.wikimedia.org/wikipedia/commons/thumb/6/6c/Disney1968.jpg/170px-Disney1968.jpg\n",
      "//upload.wikimedia.org/wikipedia/en/thumb/8/8a/OOjs_UI_icon_edit-ltr-progressive.svg/10px-OOjs_UI_icon_edit-ltr-progressive.svg.png\n",
      "//upload.wikimedia.org/wikipedia/commons/thumb/4/44/The_Walt_Disney_Company_Logo.svg/120px-The_Walt_Disney_Company_Logo.svg.png\n",
      "//upload.wikimedia.org/wikipedia/commons/thumb/d/da/Animation_disc.svg/30px-Animation_disc.svg.png\n",
      "//upload.wikimedia.org/wikipedia/en/thumb/6/69/P_vip.svg/29px-P_vip.svg.png\n",
      "//upload.wikimedia.org/wikipedia/commons/thumb/1/1a/Magic_Kingdom_castle.jpg/24px-Magic_Kingdom_castle.jpg\n",
      "//upload.wikimedia.org/wikipedia/en/thumb/e/e7/Video-x-generic.svg/30px-Video-x-generic.svg.png\n",
      "//upload.wikimedia.org/wikipedia/commons/thumb/a/a3/Flag_of_Los_Angeles_County%2C_California.svg/30px-Flag_of_Los_Angeles_County%2C_California.svg.png\n",
      "//upload.wikimedia.org/wikipedia/commons/thumb/8/8c/Blank_television_set.svg/30px-Blank_television_set.svg.png\n",
      "//upload.wikimedia.org/wikipedia/en/thumb/a/a4/Flag_of_the_United_States.svg/30px-Flag_of_the_United_States.svg.png\n",
      "//upload.wikimedia.org/wikipedia/en/thumb/4/4a/Commons-logo.svg/22px-Commons-logo.svg.png\n",
      "//upload.wikimedia.org/wikipedia/commons/thumb/f/fa/Wikiquote-logo.svg/25px-Wikiquote-logo.svg.png\n",
      "//upload.wikimedia.org/wikipedia/commons/thumb/f/ff/Wikidata-logo.svg/30px-Wikidata-logo.svg.png\n",
      "//upload.wikimedia.org/wikipedia/en/thumb/8/8a/OOjs_UI_icon_edit-ltr-progressive.svg/10px-OOjs_UI_icon_edit-ltr-progressive.svg.png\n",
      "//en.wikipedia.org/wiki/Special:CentralAutoLogin/start?type=1x1\n",
      "/static/images/wikimedia-button.png\n",
      "/static/images/poweredby_mediawiki_88x31.png\n"
     ]
    }
   ],
   "source": [
    "images_wd = []\n",
    "for tag in soup.select('img'):\n",
    "    images_wd.append(tag)\n",
    "for i in images_wd:\n",
    "    print(i['src'])"
   ]
  },
  {
   "cell_type": "markdown",
   "metadata": {},
   "source": [
    "#### Retrieve an arbitary Wikipedia page of \"Python\" and create a list of links on that page."
   ]
  },
  {
   "cell_type": "code",
   "execution_count": null,
   "metadata": {},
   "outputs": [],
   "source": [
    "# This is the url you will scrape in this exercise\n",
    "url_py ='https://en.wikipedia.org/wiki/Python' "
   ]
  },
  {
   "cell_type": "code",
   "execution_count": null,
   "metadata": {},
   "outputs": [],
   "source": [
    "# your code here\n",
    "links_py = requests.get(url_py)\n",
    "soup = BeautifulSoup(links_py.text, 'html.parser')"
   ]
  },
  {
   "cell_type": "code",
   "execution_count": 59,
   "metadata": {},
   "outputs": [
    {
     "name": "stdout",
     "output_type": "stream",
     "text": [
      "['/w/load.php?lang=en&modules=ext.cite.styles%7Cext.tmh.thumbnail.styles%7Cext.uls.interlanguage%7Cext.visualEditor.desktopArticleTarget.noscript%7Cext.wikimediaBadges%7Cjquery.makeCollapsible.styles%7Cmediawiki.toc.styles%7Cskins.vector.styles.legacy%7Cwikibase.client.init&only=styles&skin=vector', '/w/load.php?lang=en&modules=site.styles&only=styles&skin=vector', '/static/apple-touch/wikipedia.png', '/static/favicon/wikipedia.ico', '/w/opensearch_desc.php', '//en.wikipedia.org/w/api.php?action=rsd', '//creativecommons.org/licenses/by-sa/3.0/', '/w/index.php?title=Special:RecentChanges&feed=atom', 'https://en.wikipedia.org/wiki/Walt_Disney', '//login.wikimedia.org', '//meta.wikimedia.org', '/wiki/Wikipedia:Featured_articles', '/wiki/Wikipedia:Protection_policy#extended', '#mw-head', '#p-search', '/wiki/The_Walt_Disney_Company', '/wiki/Walt_Disney_(disambiguation)', '/wiki/File:Walt_Disney_1946.JPG', '/wiki/Chicago,_Illinois', '/wiki/Burbank,_California', '/wiki/The_Walt_Disney_Company', '/wiki/Disney_family', '/wiki/Academy_Awards', '/wiki/Golden_Globe_Award', '/wiki/Emmy_Award', '/wiki/File:Walt_Disney_1942_signature.svg', '/wiki/Help:IPA/English', '#cite_note-OD:_pronunciation-1', '/wiki/Modern_animation_in_the_United_States', '/wiki/Cartoon', '/wiki/Academy_Awards', '/wiki/Golden_Globe_Awards', '/wiki/Emmy_Award', '/wiki/National_Film_Registry', '/wiki/Library_of_Congress', '/wiki/The_Walt_Disney_Company', '/wiki/Roy_O._Disney', '/wiki/Ub_Iwerks', '/wiki/Mickey_Mouse', '/wiki/Technicolor', '/wiki/Feature-length', '/wiki/Snow_White_and_the_Seven_Dwarfs_(1937_film)', '/wiki/Pinocchio_(1940_film)', '/wiki/Fantasia_(1940_film)', '/wiki/Dumbo', '/wiki/Bambi', '/wiki/Live-action', '/wiki/Cinderella_(1950_film)', '/wiki/Mary_Poppins_(film)', '/wiki/Amusement_park', '/wiki/Disneyland', '/wiki/Anaheim,_California', '/wiki/Walt_Disney_anthology_television_series', '/wiki/The_Mickey_Mouse_Club', '/wiki/American_National_Exhibition', '/wiki/1960_Winter_Olympics', '/wiki/1964_New_York_World%27s_Fair', '/wiki/Walt_Disney_World', '/wiki/EPCOT_(concept)', '/wiki/Racism_in_the_United_States', '/wiki/Antisemitism_in_the_United_States', '/wiki/American_imperialism', '/wiki/Cultural_icon', '#Biography', '#Early_life:_1901–1920', '#Early_career:_1920–1928', '#Creation_of_Mickey_Mouse_to_the_first_Academy_Awards:_1928–1933', '#Golden_age_of_animation:_1934–1941', '#World_War_II_and_beyond:_1941–1950', '#Theme_parks,_television_and_other_interests:_1950–1966', '#Illness,_death_and_aftermath', '#Honors', '#Personality_and_reputation', '#Notes_and_references', '#Notes', '#References', '#Sources', '#External_links', '/wiki/Hermosa,_Chicago', '#cite_note-3', '/wiki/Elias_Disney', '/wiki/Province_of_Canada', '/wiki/Flora_Call_Disney', '/wiki/N%C3%A9e', '#cite_note-ST:_background-4', '#cite_note-EB:_Crowther-5', '#cite_note-8', '/wiki/Roy_O._Disney', '#cite_note-FOOTNOTEBarrier20079–10-9', '/wiki/Marceline,_Missouri', '#cite_note-FOOTNOTEGabler20069–10,_15-10', '/wiki/Appeal_to_Reason_(newspaper)', '/wiki/Ryan_Walker_(cartoonist)', '#cite_note-FOOTNOTEBarrier200713-11', '#cite_note-EB:_Crowther-5', '/wiki/Atchison,_Topeka_and_Santa_Fe_Railway', '#cite_note-FOOTNOTEBroggie200633–35-12', '#cite_note-FOOTNOTEBarrier200716-13', '/wiki/Kansas_City,_Missouri', '#cite_note-FOOTNOTEFinch199910-14', '/wiki/Vaudeville', '#cite_note-FOOTNOTEKrasniewicz201013-15', '/wiki/The_Kansas_City_Star', '/wiki/Kansas_City_Times', '#cite_note-FOOTNOTEBarrier200718–19-16', '/wiki/Kansas_City_Art_Institute', '/wiki/Correspondence_course', '#cite_note-EB:_Crowther-5', '#cite_note-KCL:_WD-17', '#cite_note-FOOTNOTEGabler200630-18', '/wiki/McKinley_High_School_(Chicago)', '#cite_note-D23:_WD-19', '#cite_note-FOOTNOTEFinch199912-20', '/wiki/Chicago_Academy_of_Fine_Arts', '#cite_note-FOOTNOTEMosley199039-21', '/wiki/United_States_Army', '/wiki/Western_Front_(World_War_I)', '/wiki/Age_fabrication', '/wiki/Red_Cross', '/wiki/Armistice_of_11_November_1918', '#cite_note-FOOTNOTEGabler200636–38-22', '/wiki/Stars_and_Stripes_(newspaper)', '#cite_note-NYT:_Obit-23', '#cite_note-FOOTNOTEGabler200641-24', '/wiki/Ub_Iwerks', '#cite_note-FOOTNOTEThomas199455–56-25', '/wiki/File:Walt_Disney_envelope_ca._1921.jpg', '/wiki/File:Walt_Disney_envelope_ca._1921.jpg', '#cite_note-FOOTNOTEThomas199456Barrier200724–25-26', '#cite_note-FOOTNOTEBarrier200725-27', '/wiki/Cutout_animation', '#cite_note-FOOTNOTEMosley199063-28', '/wiki/Mutt_and_Jeff', '/wiki/Koko_the_Clown', '#cite_note-FOOTNOTEThomas199457–58-29', '#cite_note-30', '/wiki/Cel_animation', '#cite_note-32', '/wiki/Cel', '/wiki/Fred_Harman', '#cite_note-FOOTNOTEGabler200656-33', '#cite_note-FOOTNOTEFinch199914-34', '/wiki/Paul_Terry_(cartoonist)', '/wiki/Aesop%27s_Fables_(film_series)', '#cite_note-FOOTNOTEBarrier200760-35', '//upload.wikimedia.org/wikipedia/commons/4/4d/Newman_Laugh-O-Gram_%281921%29.webm', '/wiki/File:Newman_Laugh-O-Gram_(1921).webm', '/wiki/Laugh-O-Gram_Studio', '/wiki/Harman_and_Ising', '/wiki/Harman_and_Ising', '#cite_note-FOOTNOTEGabler200660–61,_64–66-36', '/wiki/Alice%27s_Wonderland', '/wiki/Alice%27s_Adventures_in_Wonderland', '/wiki/Virginia_Davis', '/wiki/Alice_(Alice%27s_Adventures_in_Wonderland)', '#cite_note-FOOTNOTEFinch199915-37', '/wiki/Short_film', '#cite_note-FOOTNOTEGabler200671–73Nichols2014102-38', '/wiki/Tuberculosis', '#cite_note-FOOTNOTEBarrier199939-39', '#cite_note-FOOTNOTEThomasJohnston199529-40', '/wiki/Margaret_J._Winkler', '/wiki/Out_of_the_Inkwell', '/wiki/Felix_the_Cat', '/wiki/Alice_Comedies', '#cite_note-FOOTNOTEThomasJohnston199529-40', '#cite_note-FOOTNOTEBarrier200740-41', '/wiki/The_Walt_Disney_Company', '#cite_note-FOOTNOTEGabler200678-42', '#cite_note-WDC:_About-43', '/wiki/Cinema_of_the_United_States', '#cite_note-FOOTNOTEThomas199473–75-44', '/wiki/Lillian_Disney', '/wiki/Lewiston,_Idaho', '#cite_note-wddiofclmt-45', '/wiki/Neal_Gabler', '#cite_note-FOOTNOTEGabler2006544-46', '#cite_note-47', '#cite_note-FOOTNOTEWatts2013352-48', '/wiki/Diane_Disney_Miller', '#cite_note-FOOTNOTEBarrier2007102,_131-49', '#cite_note-50', '/wiki/Disney_family', '#cite_note-FOOTNOTEMosley1990169Gabler2006280-51', '/wiki/Lindbergh_kidnapping', '#cite_note-FOOTNOTEThomas1994196Watts2013352-52', '/wiki/File:Trolley_Troubles_poster.jpg', '/wiki/File:Trolley_Troubles_poster.jpg', '/wiki/Trolley_Troubles', '/wiki/Charles_Mintz', '#cite_note-WDFM:_Alice_Skids-53', '#cite_note-WDFM:_Final_Alice-54', '#cite_note-WDFM:_Alice_Skids-53', '#cite_note-BBC:_Oswald-55', '/wiki/Universal_Pictures', '/wiki/Oswald_the_Lucky_Rabbit', '#cite_note-BBC:_Oswald-55', '#cite_note-FOOTNOTEThomas199483-56', '/wiki/Carman_Maxwell', '/wiki/Friz_Freleng', '/wiki/Intellectual_property_rights', '#cite_note-FOOTNOTEGabler2006109-57', '#cite_note-WDFM:_Secret_Talks-58', '#cite_note-60', '/wiki/File:Walt_Disney_and_his_cartoon_creation_%22Mickey_Mouse%22_-_National_Board_of_Review_Magazine.jpg', '/wiki/File:Walt_Disney_and_his_cartoon_creation_%22Mickey_Mouse%22_-_National_Board_of_Review_Magazine.jpg', '/wiki/Mickey_Mouse', '/wiki/Mickey_Mouse', '#cite_note-FOOTNOTEThomas199488-61', '#cite_note-62', '#cite_note-FOOTNOTEGabler2006112-63', '#cite_note-65', '#cite_note-FOOTNOTEThomasJohnston199539-66', '#cite_note-WDFM:_MM-67', '/wiki/File:Steamboat-willie.jpg', '/wiki/File:Steamboat-willie.jpg', '/wiki/Mickey_Mouse', '/wiki/Steamboat_Willie', '/wiki/Plane_Crazy', '/wiki/The_Gallopin%27_Gaucho', '#cite_note-FOOTNOTEGabler2006116-68', '/wiki/The_Jazz_Singer', '/wiki/Steamboat_Willie', '/wiki/Sound_film', '/wiki/Pat_Powers_(businessman)', '#cite_note-FOOTNOTELanger2000-69', '#cite_note-FOOTNOTEFinch199923–24Gabler2006129-70', '/wiki/Carl_Stalling', '/wiki/Silly_Symphony', '/wiki/The_Skeleton_Dance', '/wiki/Disney%27s_Nine_Old_Men', '#cite_note-FOOTNOTEFinch199926–27Langer2000-71', '#cite_note-72', '/wiki/Inbetweening', '#cite_note-FOOTNOTEFinch199926–27Gabler2006142–44-73', '#cite_note-FOOTNOTEKrasniewicz201059–60-74', '/wiki/File:Walt_Disney_1935.jpg', '/wiki/File:Walt_Disney_1935.jpg', '/wiki/Columbia_Pictures', '#cite_note-Time:_Rodent-75', '#cite_note-FOOTNOTEFinch199926–27Gabler2006142-76', '#cite_note-77', '/wiki/Flowers_and_Trees', '/wiki/Technicolor', '#cite_note-FOOTNOTEGabler2006178-78', '#cite_note-FOOTNOTEBarrier1999167Gabler2006179-79', '#cite_note-FOOTNOTEFinch199928-80', '#cite_note-FOOTNOTEGabler2006178-78', '/wiki/Academy_Award', '/wiki/Academy_Award_for_Best_Animated_Short_Film', '/wiki/5th_Academy_Awards', '/wiki/Mickey%27s_Orphans', '/wiki/Academy_Honorary_Award', '#cite_note-FOOTNOTEBarrier200789–90-81', '#cite_note-AA:_1932-82', '/wiki/The_Three_Little_Pigs_(film)', '#cite_note-SoC:_3_Pigs-83', '#cite_note-FOOTNOTEGabler2006184–86-84', '#cite_note-FOOTNOTELeeMadej201255–56-85', '/wiki/Storyboard_artist', '#cite_note-FOOTNOTEGabler2006186-86', '/wiki/File:Walt_Disney_Snow_white_1937_trailer_screenshot_(13).jpg', '/wiki/File:Walt_Disney_Snow_white_1937_trailer_screenshot_(13).jpg', '/wiki/Snow_White_and_the_Seven_Dwarfs_(1937_film)', '#cite_note-FOOTNOTEThomas1994129-87', '#cite_note-FOOTNOTEThomasJohnston199590-88', '/wiki/Snow_White_and_the_Seven_Dwarfs_(1937_film)', '/wiki/Snow_White', '#cite_note-FOOTNOTEGabler2006270-89', '#cite_note-FOOTNOTEBarrier1999130Finch199959-90', '/wiki/Chouinard_Art_Institute', '#cite_note-Disney_Myth-91', '#cite_note-Disney_Experience-92', '/wiki/Multiplane_camera', '/wiki/The_Old_Mill', '#cite_note-FOOTNOTEWilliamsDenneyDenney2004116-93', '#cite_note-FOOTNOTEGabler2006270-89', '#cite_note-95', '#cite_note-AA:_1939-96', '#cite_note-97', '/wiki/The_Walt_Disney_Family_Museum', '#cite_note-WDFM:_Golden_Age-98', '#cite_note-FOOTNOTEKrasniewicz201087-99', '/wiki/Pinocchio_(1940_film)', '/wiki/Fantasia_(1940_film)', '/wiki/World_War_II', '#cite_note-FOOTNOTEThomas1994161–62Barrier2007152,_162–63-100', '/wiki/Initial_public_offering', '/wiki/Disney_animators%27_strike', '#cite_note-FOOTNOTECeplairEnglund1983158Thomas1994163–65Barrier1999171–73-101', '/wiki/National_Labor_Relations_Board', '/wiki/Office_of_the_Coordinator_of_Inter-American_Affairs', '#cite_note-FOOTNOTEThomas1994170–71Gabler2006370–71-102', '#cite_note-105', '#cite_note-FOOTNOTELanger2000Gabler2006378-106', '/wiki/Dumbo', '#cite_note-FOOTNOTEFinch199971Gabler2006380–81-107', '/wiki/File:Disney_drawing_goofy.jpg', '/wiki/File:Disney_drawing_goofy.jpg', '/wiki/Goofy', '#cite_note-FOOTNOTEThomas1994184–85Gabler2006382–83-108', '/wiki/Henry_Morgenthau_Jr.', '/wiki/United_States_Secretary_of_the_Treasury', '/wiki/Donald_Duck', '/wiki/Series_E_bond', '#cite_note-FOOTNOTEGabler2006384–85-109', '/wiki/Walt_Disney%27s_World_War_II_propaganda_production', '/wiki/Der_Fuehrer%27s_Face', '/wiki/Victory_Through_Air_Power_(film)', '#cite_note-FOOTNOTEFinch199977-110', '/wiki/Bambi', '#cite_note-FOOTNOTEGabler2006399-111', '/wiki/Bank_of_America', '#cite_note-WDFM:_Fiscal_Crisis-112', '#cite_note-113', '/wiki/Amadeo_Giannini', '#cite_note-FOOTNOTEThomas1994186–87-114', '/wiki/Warner_Bros._Cartoons', '/wiki/Metro-Goldwyn-Mayer_cartoon_studio', '#cite_note-FOOTNOTELanger2000-69', '#cite_note-115', '/wiki/True-Life_Adventures', '/wiki/Seal_Island_(film)', '/wiki/Academy_Award_for_Best_Live_Action_Short_Film', '#cite_note-FOOTNOTEGabler2006445–46-116', '/wiki/Democratic_Party_(United_States)', '/wiki/1940_United_States_presidential_election', '/wiki/Republican_Party_(United_States)', '#cite_note-FOOTNOTEThomas1994227-117', '/wiki/Thomas_E._Dewey', '/wiki/1944_United_States_presidential_election', '#cite_note-FOOTNOTEGabler2006452-118', '/wiki/Motion_Picture_Alliance_for_the_Preservation_of_American_Ideals', '#cite_note-FOOTNOTEWatts2013240-119', '/wiki/Second_Red_Scare', '/wiki/House_Un-American_Activities_Committee', '/wiki/Herbert_Sorrell', '/wiki/David_Hilberman', '/wiki/William_Pomerance', '/wiki/Trade_union', '#cite_note-CNN:_HUAC-120', '#cite_note-FOOTNOTEGabler2006370-121', '#cite_note-122', '/wiki/File:DisneySchiphol1951.jpg', '/wiki/File:DisneySchiphol1951.jpg', '/wiki/Holmby_Hills', '/wiki/Ward_Kimball', '/wiki/Grizzly_Flats_Railroad', '/wiki/Live_steam', '/wiki/Carolwood_Pacific_Railroad', '/wiki/Roger_E._Broggie', '#cite_note-FOOTNOTEBroggie20067,_109-123', '#cite_note-FOOTNOTEBarrier2007219-124', '/wiki/Cinderella_(1950_film)', '#cite_note-FOOTNOTEBarrier2007220-125', '#cite_note-126', '/wiki/Treasure_Island_(1950_film)', '/wiki/The_Story_of_Robin_Hood_and_His_Merrie_Men', '#cite_note-FOOTNOTEFinch1999126–2Barrier2007221–23-127', '#cite_note-FOOTNOTELanger2000-69', '#cite_note-128', '/wiki/Alice_in_Wonderland_(1951_film)', '/wiki/Peter_Pan_(1953_film)', '#cite_note-FOOTNOTECanemaker2001110-129', '/wiki/File:WaltDisneyplansDisneylandDec1954.jpg', '/wiki/File:WaltDisneyplansDisneylandDec1954.jpg', '/wiki/Disneyland', '/wiki/Orange_County,_California', '/wiki/Griffith_Park', '#cite_note-WDFM:_Dreaming-130', '/wiki/Tivoli_Gardens', '#cite_note-Disney_Myth_2-131', '#cite_note-FOOTNOTEBarrier2007233–34-132', '/wiki/Anaheim,_California', '/wiki/Walt_Disney_Imagineering', '#cite_note-WDFM:_WED-133', '#cite_note-WDFM:_Genesis-134', '#cite_note-FOOTNOTEFinch1999139-135', '/wiki/American_Broadcasting-Paramount_Theatres', '/wiki/American_Broadcasting_Company', '/wiki/Western_Publishing', '#cite_note-FOOTNOTELanger2000-69', '#cite_note-FOOTNOTEBarrier2007246-136', '/wiki/Disneyland', '#cite_note-FOOTNOTEGabler2006524,_530–32-137', '/wiki/Main_Street,_U.S.A.', '/wiki/Adventureland_(Disney)', '/wiki/Frontierland', '/wiki/Fantasyland', '/wiki/Tomorrowland', '/wiki/Narrow-gauge_railway', '/wiki/Disneyland_Railroad', '/wiki/Berm', '#cite_note-FOOTNOTEEliot1995225–26-138', '#cite_note-FOOTNOTEGabler2006498-139', '/wiki/The_New_York_Times', '#cite_note-NYT:_Topics-140', '#cite_note-FOOTNOTEGabler2006537-141', '#cite_note-FOOTNOTEGabler2006508–09-142', '#cite_note-FOOTNOTELanger2000-69', '/wiki/Walt_Disney_anthology_television_series', '#cite_note-FOOTNOTEGabler2006511-143', '#cite_note-144', '/wiki/Newsweek', '#cite_note-NW:_Wonderful-145', '/wiki/The_Mickey_Mouse_Club', '#cite_note-FOOTNOTEGabler2006520–21-146', '#cite_note-FOOTNOTEBarrier2007245-147', '/wiki/Miniseries', '/wiki/Davy_Crockett_(miniseries)', '#cite_note-FOOTNOTEGabler2006514-148', '/wiki/The_Ballad_of_Davy_Crockett', '#cite_note-FOOTNOTEThomas1994257-149', '/wiki/Walt_Disney_Records', '#cite_note-FOOTNOTEHollisEhrbar20065–12,_20-150', '/wiki/American_National_Exhibition', '/wiki/America_the_Beautiful_(Disney)', '/wiki/Circle-Vision_360%C2%B0', '#cite_note-FOOTNOTELanger2000-69', '/wiki/1960_Winter_Olympics', '/wiki/Squaw_Valley,_Placer_County,_California', '/wiki/Olympic_Games_ceremony', '#cite_note-FOOTNOTEGabler2006566-151', '/wiki/File:Walt_disney_portrait_right.jpg', '/wiki/File:Walt_disney_portrait_right.jpg', '/wiki/Man_in_Space', '/wiki/NASA', '/wiki/Wernher_von_Braun', '#cite_note-153', '/wiki/Lady_and_the_Tramp', '/wiki/CinemaScope', '/wiki/Sleeping_Beauty_(1959_film)', '/wiki/Technirama', '/wiki/70_mm_film', '/wiki/One_Hundred_and_One_Dalmatians', '/wiki/Traditional_animation#Xerography', '/wiki/The_Sword_in_the_Stone_(1963_film)', '#cite_note-FOOTNOTEFinch199982–85-154', '/wiki/Mary_Poppins_(film)', '/wiki/Mary_Poppins_(book_series)', '/wiki/P._L._Travers', '#cite_note-FOOTNOTEFinch1999130-155', '#cite_note-DT:_Travers_dislike-156', '/wiki/California_Institute_of_the_Arts', '#cite_note-FOOTNOTEThomas1994298-157', '/wiki/1964_New_York_World%27s_Fair', '/wiki/PepsiCo', '/wiki/UNICEF', '/wiki/It%27s_a_Small_World', '/wiki/Great_Moments_with_Mr._Lincoln', '/wiki/Abraham_Lincoln', '/wiki/Walt_Disney%27s_Carousel_of_Progress', '#cite_note-FOOTNOTEBarrier2007293-158', '#cite_note-WDFM:_Fair-159', '/wiki/Ski_resort', '/wiki/Mineral_King', '/wiki/Sierra_Nevada_(US)', '/wiki/Willy_Schaeffler', '#cite_note-FOOTNOTEGabler2006621–23-160', '#cite_note-Ski:_Schaeffler-161', '#cite_note-163', '/wiki/Walt_Disney_World', '/wiki/Orlando,_Florida', '/wiki/EPCOT_(concept)', '#cite_note-FOOTNOTEGabler2006606–08-164', '#cite_note-FOOTNOTEBeard198211-165', '#cite_note-FOOTNOTEThomas1994307-166', '/wiki/The_Jungle_Book_(1967_film)', '/wiki/The_Happiest_Millionaire', '/wiki/Winnie_the_Pooh_and_the_Blustery_Day', '#cite_note-FOOTNOTEThomas1994343Barrier2007276-167', '/wiki/File:Walt_Disney_Grave.JPG', '/wiki/File:Walt_Disney_Grave.JPG', '/wiki/Chain_smoking', '/wiki/Cigarette_filter', '/wiki/Cobalt_therapy', '/wiki/Providence_Saint_Joseph_Medical_Center', '/wiki/Circulatory_collapse', '#cite_note-FOOTNOTEGabler2006626–31-168', '/wiki/Forest_Lawn_Memorial_Park_(Glendale)', '/wiki/Glendale,_California', '#cite_note-FOOTNOTEMosley1990298-169', '#cite_note-172', '#cite_note-D23:_WD-19', '#cite_note-FOOTNOTEDobson2009220-173', '/wiki/The_New_York_Times', '/wiki/Disney_Renaissance', '/wiki/The_Little_Mermaid_(1989_film)', '#cite_note-USA_Today-174', '#cite_note-WDS:_History-175', '/wiki/File:Roy_O._Disney_with_Company_at_Press_Conference.jpg', '/wiki/File:Roy_O._Disney_with_Company_at_Press_Conference.jpg', '/wiki/Roy_O._Disney', '#cite_note-Esquire:_EPCOT-176', '#cite_note-DWR:_WH-177', '#cite_note-179', '/wiki/Epcot_Center', '/wiki/World%27s_fair', '#cite_note-ATT:_EPCOT-180', '/wiki/Presidio_of_San_Francisco', '#cite_note-WDFM:_About-181', '#cite_note-NYT:_WDFM-182', '#cite_note-NYDNOctober2015-183', '/wiki/H._G._Wells', '/wiki/The_Holy_Terror_(Wells_novel)', '#cite_note-FOOTNOTEPierce1987100-184', '/wiki/Len_Cariou', '#cite_note-Variety:_Dream_Is_a_Wish-185', '/wiki/Tom_Hanks', '/wiki/Saving_Mr._Banks', '#cite_note-Saving_Mr_Banks-186', '/wiki/Peter_Stephan_Jungk', '/wiki/Philip_Glass', '/wiki/The_Perfect_American', '#cite_note-DT:_Perfect_Am-187', '/wiki/List_of_Academy_Awards_for_Walt_Disney', '/wiki/File:Disney_Display_Case.JPG', '/wiki/File:Disney_Display_Case.JPG', '/wiki/The_Walt_Disney_Family_Museum', '#cite_note-Nominee_Facts-188', '/wiki/Golden_Globe_Award', '/wiki/The_Living_Desert', '/wiki/Golden_Globe_Cecil_B._DeMille_Award', '#cite_note-GG:_WD-189', '/wiki/Emmy_Award', '#cite_note-Emmy:_Awards-190', '/wiki/National_Film_Registry', '/wiki/Library_of_Congress', '#cite_note-LoC:_Film_Registry-191', '/wiki/American_Film_Institute', '#cite_note-AFI:_100-192', '/wiki/Hollywood_Walk_of_Fame', '#cite_note-Hollywood_WoF-193', '#cite_note-Hollywood_WoF:_MM-194', '/wiki/Television_Hall_of_Fame', '#cite_note-Emmy:_HoF-195', '/wiki/California_Hall_of_Fame', '#cite_note-CHoF:_WD-196', '/wiki/Anaheim/Orange_County_Walk_of_Stars', '#cite_note-OC_Walk_of_Stars-197', '#cite_note-D23:_WD-19', '/wiki/Legion_of_Honour', '#cite_note-Guard:_Legion-198', '#cite_note-SMT:_Academie-199', '/wiki/Order_of_the_Crown_of_Thailand', '/wiki/Order_of_Merit_of_the_Federal_Republic_of_Germany', '#cite_note-200', '/wiki/Order_of_the_Southern_Cross', '#cite_note-201', '/wiki/Order_of_the_Aztec_Eagle', '#cite_note-CalMuseum-202', '/wiki/Presidential_Medal_of_Freedom', '#cite_note-WP:_Freedom-203', '/wiki/Congressional_Gold_Medal', '#cite_note-VNN:_CGM-204', '#cite_note-CalMuseum-202', '/wiki/National_Audubon_Society', '#cite_note-Audubon_Medal-205', '/wiki/Minor_planet', '/wiki/Lyudmila_Karachkina', '/wiki/4017_Disneya', '#cite_note-FOOTNOTESchmadel2003342-206', '/wiki/Harvard_University', '/wiki/Yale', '/wiki/University_of_Southern_California', '/wiki/University_of_California,_Los_Angeles', '#cite_note-D23:_WD-19', '/wiki/File:Disney1968.jpg', '/wiki/File:Disney1968.jpg', '#cite_note-PBS_trailer_2-207', '/wiki/Robert_E._Sherwood', '#cite_note-FOOTNOTEGabler2006204-208', '/wiki/Richard_Schickel', '#cite_note-FOOTNOTESchickel1986341-209', '#cite_note-FOOTNOTEGabler2006205-210', '#cite_note-PBS_trailer_1-211', '/wiki/Otis_Ferguson', '/wiki/The_New_Republic', '#cite_note-FOOTNOTEGabler2006205-210', '#cite_note-FOOTNOTENorman201364-212', '#cite_note-FOOTNOTEKrasniewicz201077-213', '#cite_note-FOOTNOTEWatts199584-214', '#cite_note-FOOTNOTELanger2000-69', '#cite_note-FOOTNOTEWatts199584-214', '/wiki/PBS', '#cite_note-PBS:_AmEx-215', '#cite_note-FOOTNOTELanger2000-69', '#cite_note-FOOTNOTEGabler2006x-216', '/wiki/C._A._Lejeune', '/wiki/The_Observer', '#cite_note-Obs:_Snow_White-217', '/wiki/Bathos', '#cite_note-Times:_Fantasia-218', '#cite_note-Obs:_Alice-219', '#cite_note-Times:_PP-220', '/wiki/Antisemitism', '#cite_note-NYT:_Dargis-221', '#cite_note-224', '/wiki/Art_Babbitt', '#cite_note-FOOTNOTEGabler2006448,_457-223', '#cite_note-227', '/wiki/B%27nai_B%27rith', '#cite_note-FOOTNOTEGabler2006456-225', '#cite_note-Creative_Explosion-226', '#cite_note-FOOTNOTEGabler2006455-228', '#cite_note-229', '/wiki/Motion_Picture_Alliance_for_the_Preservation_of_American_Ideals', '#cite_note-CBS:_Gabler-230', '#cite_note-FOOTNOTEGabler2006611-231', '#cite_note-FOOTNOTEGabler2006433-232', '#cite_note-233', '/wiki/Song_of_the_South', '/wiki/National_Association_for_the_Advancement_of_Colored_People', '/wiki/Stereotypes_of_African_Americans', '#cite_note-FOOTNOTECohen200460-234', '/wiki/James_Baskett', '#cite_note-FOOTNOTEGabler2006438–39-235', '#cite_note-236', '#cite_note-FOOTNOTEGabler2006433-232', '/wiki/Floyd_Norman', '#cite_note-FOOTNOTEKorkis2012xi-237', '/wiki/Marshall_Plan', '/wiki/Cultural_imperialism', '#cite_note-FOOTNOTEWatts1995107-238', '#cite_note-FOOTNOTETelotte200819-239', '/wiki/Ariel_Dorfman', '/wiki/Armand_Mattelart', '/wiki/How_to_Read_Donald_Duck', '#cite_note-FOOTNOTETomlinson200141-240', '/wiki/Yankee', '#cite_note-FOOTNOTETomlinson200144-241', '/wiki/Cultural_icon', '#cite_note-FOOTNOTEMannheim201640Krasniewicz2010xxiiWatts201358Painter200825-242', '#cite_note-Izard:_Master-243', '/wiki/The_Times', '#cite_note-Times:_Obit-244', '/wiki/Bosley_Crowther', '#cite_note-EB:_Crowther-5', '/wiki/Alistair_Cooke', '#cite_note-Guard:_Cooke-245', '#cite_note-FOOTNOTEGabler2006x-216', '#cite_note-FOOTNOTELanger2000-69', '#cite_ref-3', '#cite_note-FOOTNOTEGabler20068-2', '#cite_ref-8', '/wiki/William_the_Conqueror', '#cite_note-FOOTNOTEMosley199022Eliot19952-6', '/wiki/Anglicisation', '/wiki/Norton_Disney', '/wiki/East_Midlands', '#cite_note-Ancestors-7', '#cite_ref-30', '#cite_note-FOOTNOTEThomas199457–58-29', '#cite_ref-32', '#cite_note-FOOTNOTEWithrow200948-31', '#cite_ref-47', '/wiki/Snow_White_and_the_Seven_Dwarfs_(1937_film)', '#cite_note-FOOTNOTEGabler2006544-46', '#cite_ref-50', '#cite_note-FOOTNOTEBarrier2007102,_131-49', '#cite_ref-60', '/wiki/The_Walt_Disney_Company', '/wiki/ESPN', '/wiki/NBCUniversal', '#cite_note-EPSN:_Oswald-59', '#cite_ref-62', '/wiki/Bob_Thomas_(reporter)', '#cite_note-FOOTNOTEThomas199488-61', '#cite_ref-65', '/wiki/Mickey%27s_Rival', '/wiki/Minnie_Mouse', '/wiki/City_slicker', '#cite_note-FOOTNOTEWatts201373-64', '#cite_ref-72', '/wiki/Disney%27s_Nine_Old_Men', '/wiki/Eric_Larson', '/wiki/Wolfgang_Reitherman', '/wiki/Les_Clark', '/wiki/Milt_Kahl', '/wiki/Ward_Kimball', '/wiki/Marc_Davis_(animator)', '/wiki/Ollie_Johnston', '/wiki/Frank_Thomas_(animator)', '/wiki/John_Lounsbery', '#cite_note-FOOTNOTELanger2000-69', '#cite_ref-77', '#cite_note-Time:_Rodent-75', '#cite_ref-95', '/wiki/United_States_Consumer_Price_Index', '#cite_note-inflation-US-94', '#cite_ref-97', '#cite_note-AA:_1939-96', '#cite_ref-105', '/wiki/Saludos_Amigos', '/wiki/The_Three_Caballeros', '#cite_note-FOOTNOTEFinch199976-103', '#cite_note-FOOTNOTEGabler2006394–95-104', '#cite_ref-113', '/wiki/United_States_Consumer_Price_Index', '#cite_note-inflation-US-94', '#cite_ref-115', '/wiki/Make_Mine_Music', '/wiki/Song_of_the_South', '/wiki/Melody_Time', '/wiki/So_Dear_to_My_Heart', '#cite_note-FOOTNOTELanger2000-69', '#cite_ref-126', '/wiki/United_States_Consumer_Price_Index', '#cite_note-inflation-US-94', '#cite_ref-128', '/wiki/Johnny_Tremain_(film)', '/wiki/Old_Yeller_(film)', '/wiki/Tonka_(film)', '/wiki/Swiss_Family_Robinson_(1960_film)', '/wiki/Pollyanna_(1960_film)', '#cite_note-FOOTNOTELanger2000-69', '#cite_ref-144', '/wiki/Lucille_Ball', '/wiki/I_Love_Lucy', '#cite_note-FOOTNOTEGabler2006511-143', '#cite_ref-153', '/wiki/Ward_Kimball', '/wiki/Academy_Award_for_Best_Documentary_(Short_Subject)', '/wiki/29th_Academy_Awards', '#cite_note-AA:1957-152', '#cite_ref-163', '#cite_note-FOOTNOTEGabler2006631-162', '#cite_ref-172', '/wiki/Urban_legend', '/wiki/Cryonics', '#cite_note-FOOTNOTEEliot1995268-170', '#cite_note-WFP:_Frozen-171', '#cite_ref-179', '#cite_note-FOOTNOTEThomas1994357–58-178', '#cite_ref-224', '/wiki/Art_Babbitt', '/wiki/German_American_Bund', '#cite_note-FOOTNOTEGabler2006448-222', '#cite_note-FOOTNOTEGabler2006448,_457-223', '#cite_ref-227', '/wiki/The_Opry_House', '/wiki/Hasidic_Jew', '#cite_note-FOOTNOTEGabler2006456-225', '#cite_note-Creative_Explosion-226', '#cite_ref-229', '/wiki/Joe_Grant', '/wiki/Kay_Kamen', '#cite_note-FOOTNOTEGabler2006455-228', '#cite_ref-233', '/wiki/Mickey%27s_Mellerdrammer', '/wiki/Blackface', '#cite_note-FOOTNOTEGabler2006433-232', '#cite_ref-236', '#cite_note-FOOTNOTEGabler2006438–39-235', '#cite_ref-OD:_pronunciation_1-0', 'https://web.archive.org/web/20160330142206/http://www.oxforddictionaries.com/definition/english/disney-walt', 'http://www.oxforddictionaries.com/definition/english/Disney-Walt?q=disney', '#cite_ref-FOOTNOTEGabler20068_2-0', '#CITEREFGabler2006', '#cite_ref-ST:_background_4-0', 'https://web.archive.org/web/20091003001653/http://www.suntimes.com/lifestyles/1790811%2Cdisney-walt-museum-san-francisco-092709.article', 'http://www.suntimes.com/lifestyles/1790811,disney-walt-museum-san-francisco-092709.article', 'mw-data:TemplateStyles:r951705291', '#cite_ref-EB:_Crowther_5-0', '#cite_ref-EB:_Crowther_5-1', '#cite_ref-EB:_Crowther_5-2', '#cite_ref-EB:_Crowther_5-3', '/wiki/Bosley_Crowther', 'https://web.archive.org/web/20160320210314/http://www.britannica.com/biography/Walt-Disney', 'http://www.britannica.com/biography/Walt-Disney', 'mw-data:TemplateStyles:r951705291', '#cite_ref-FOOTNOTEMosley199022Eliot19952_6-0', '#CITEREFMosley1990', '#CITEREFEliot1995', '#cite_ref-Ancestors_7-0', 'https://web.archive.org/web/20160303200929/http://www.independent.co.uk/travel/uncle-walts-lost-ancestors-1266622.html', 'https://www.independent.co.uk/travel/uncle-walts-lost-ancestors-1266622.html', 'mw-data:TemplateStyles:r951705291', '#cite_ref-FOOTNOTEBarrier20079–10_9-0', '#CITEREFBarrier2007', '#cite_ref-FOOTNOTEGabler20069–10,_15_10-0', '#CITEREFGabler2006', '#cite_ref-FOOTNOTEBarrier200713_11-0', '#CITEREFBarrier2007', '#cite_ref-FOOTNOTEBroggie200633–35_12-0', '#CITEREFBroggie2006', '#cite_ref-FOOTNOTEBarrier200716_13-0', '#CITEREFBarrier2007', '#cite_ref-FOOTNOTEFinch199910_14-0', '#CITEREFFinch1999', '#cite_ref-FOOTNOTEKrasniewicz201013_15-0', '#CITEREFKrasniewicz2010', '#cite_ref-FOOTNOTEBarrier200718–19_16-0', '#CITEREFBarrier2007', '#cite_ref-KCL:_WD_17-0', 'https://web.archive.org/web/20160309120940/http://kchistory.org/cdm4/item_viewer.php?cisobox=1&cisoptr=31&cisoroot=%2Fbiographies&rec=2', 'http://kchistory.org/cdm4/item_viewer.php?CISOROOT=/Biographies&CISOPTR=31&CISOBOX=1&REC=2', 'mw-data:TemplateStyles:r951705291', '#cite_ref-FOOTNOTEGabler200630_18-0', '#CITEREFGabler2006', '#cite_ref-D23:_WD_19-0', '#cite_ref-D23:_WD_19-1', '#cite_ref-D23:_WD_19-2', '#cite_ref-D23:_WD_19-3', 'https://web.archive.org/web/20160421084237/https://d23.com/about-walt-disney/', '/wiki/D23_(Disney)', 'https://d23.com/about-walt-disney/', 'mw-data:TemplateStyles:r951705291', '#cite_ref-FOOTNOTEFinch199912_20-0', '#CITEREFFinch1999', '#cite_ref-FOOTNOTEMosley199039_21-0', '#CITEREFMosley1990', '#cite_ref-FOOTNOTEGabler200636–38_22-0', '#CITEREFGabler2006', '#cite_ref-NYT:_Obit_23-0', 'https://web.archive.org/web/20160507092701/http://query.nytimes.com/gst/abstract.html?res=9C02E6D61130E03ABC4E52DFB467838D679EDE', 'https://www.nytimes.com/1966/12/16/archives/walt-disney-65-dies-on-coast-founded-an-empire-on-a-mouse-walt.html', 'mw-data:TemplateStyles:r951705291', '#cite_ref-FOOTNOTEGabler200641_24-0', '#CITEREFGabler2006', '#cite_ref-FOOTNOTEThomas199455–56_25-0', '#CITEREFThomas1994', '#cite_ref-FOOTNOTEThomas199456Barrier200724–25_26-0', '#CITEREFThomas1994', '#CITEREFBarrier2007', '#cite_ref-FOOTNOTEBarrier200725_27-0', '#CITEREFBarrier2007', '#cite_ref-FOOTNOTEMosley199063_28-0', '#CITEREFMosley1990', '#cite_ref-FOOTNOTEThomas199457–58_29-0', '#cite_ref-FOOTNOTEThomas199457–58_29-1', '#CITEREFThomas1994', '#cite_ref-FOOTNOTEWithrow200948_31-0', '#CITEREFWithrow2009', '#cite_ref-FOOTNOTEGabler200656_33-0', '#CITEREFGabler2006', '#cite_ref-FOOTNOTEFinch199914_34-0', '#CITEREFFinch1999', '#cite_ref-FOOTNOTEBarrier200760_35-0', '#CITEREFBarrier2007', '#cite_ref-FOOTNOTEGabler200660–61,_64–66_36-0', '#CITEREFGabler2006', '#cite_ref-FOOTNOTEFinch199915_37-0', '#CITEREFFinch1999', '#cite_ref-FOOTNOTEGabler200671–73Nichols2014102_38-0', '#CITEREFGabler2006', '#CITEREFNichols2014', '#cite_ref-FOOTNOTEBarrier199939_39-0', '#CITEREFBarrier1999', '#cite_ref-FOOTNOTEThomasJohnston199529_40-0', '#cite_ref-FOOTNOTEThomasJohnston199529_40-1', '#CITEREFThomasJohnston1995', '#cite_ref-FOOTNOTEBarrier200740_41-0', '#CITEREFBarrier2007', '#cite_ref-FOOTNOTEGabler200678_42-0', '#CITEREFGabler2006', '#cite_ref-WDC:_About_43-0', 'https://web.archive.org/web/20160505063818/https://thewaltdisneycompany.com/about/', 'https://thewaltdisneycompany.com/about/', 'mw-data:TemplateStyles:r951705291', '#cite_ref-FOOTNOTEThomas199473–75_44-0', '#CITEREFThomas1994', '#cite_ref-wddiofclmt_45-0', 'https://news.google.com/newspapers?id=D7peAAAAIBAJ&pg=4762%2C3438544', 'mw-data:TemplateStyles:r951705291', '#cite_ref-FOOTNOTEGabler2006544_46-0', '#cite_ref-FOOTNOTEGabler2006544_46-1', '#CITEREFGabler2006', '#cite_ref-FOOTNOTEWatts2013352_48-0', '#CITEREFWatts2013', '#cite_ref-FOOTNOTEBarrier2007102,_131_49-0', '#cite_ref-FOOTNOTEBarrier2007102,_131_49-1', '#CITEREFBarrier2007', '#cite_ref-FOOTNOTEMosley1990169Gabler2006280_51-0', '#CITEREFMosley1990', '#CITEREFGabler2006', '#cite_ref-FOOTNOTEThomas1994196Watts2013352_52-0', '#CITEREFThomas1994', '#CITEREFWatts2013', '#cite_ref-WDFM:_Alice_Skids_53-0', '#cite_ref-WDFM:_Alice_Skids_53-1', 'https://web.archive.org/web/20140714201543/http://www.waltdisney.org/content/alice-hits-skids', 'http://www.waltdisney.org/content/alice-hits-skids', 'mw-data:TemplateStyles:r951705291', '#cite_ref-WDFM:_Final_Alice_54-0', 'https://web.archive.org/web/20140714145210/http://www.waltdisney.org/content/final-alice-comedy-released', 'http://www.waltdisney.org/content/final-alice-comedy-released', 'mw-data:TemplateStyles:r951705291', '#cite_ref-BBC:_Oswald_55-0', '#cite_ref-BBC:_Oswald_55-1', 'https://web.archive.org/web/20160308094315/http://www.bbc.co.uk/news/magazine-19910825', 'https://www.bbc.co.uk/news/magazine-19910825', 'mw-data:TemplateStyles:r951705291', '#cite_ref-FOOTNOTEThomas199483_56-0', '#CITEREFThomas1994', '#cite_ref-FOOTNOTEGabler2006109_57-0', '#CITEREFGabler2006', '#cite_ref-WDFM:_Secret_Talks_58-0', 'https://web.archive.org/web/20150429005131/http://www.waltdisney.org/content/secret-talks', 'http://www.waltdisney.org/content/secret-talks', 'mw-data:TemplateStyles:r951705291', '#cite_ref-EPSN:_Oswald_59-0', 'https://web.archive.org/web/20160407035338/http://espn.go.com/nfl/news/story?id=2324417', 'http://espn.go.com/nfl/news/story?id=2324417', 'mw-data:TemplateStyles:r951705291', '#cite_ref-FOOTNOTEThomas199488_61-0', '#cite_ref-FOOTNOTEThomas199488_61-1', '#CITEREFThomas1994', '#cite_ref-FOOTNOTEGabler2006112_63-0', '#CITEREFGabler2006', '#cite_ref-FOOTNOTEWatts201373_64-0', '#CITEREFWatts2013', '#cite_ref-FOOTNOTEThomasJohnston199539_66-0', '#CITEREFThomasJohnston1995', '#cite_ref-WDFM:_MM_67-0', 'https://web.archive.org/web/20080710052034/http://disney.go.com/disneyatoz/familymuseum/exhibits/articles/mickeymousegoldenage/index.html', 'http://disney.go.com/disneyatoz/familymuseum/exhibits/articles/mickeymousegoldenage/index.html', 'mw-data:TemplateStyles:r951705291', '#cite_ref-FOOTNOTEGabler2006116_68-0', '#CITEREFGabler2006', '#cite_ref-FOOTNOTELanger2000_69-0', '#cite_ref-FOOTNOTELanger2000_69-1', '#cite_ref-FOOTNOTELanger2000_69-2', '#cite_ref-FOOTNOTELanger2000_69-3', '#cite_ref-FOOTNOTELanger2000_69-4', '#cite_ref-FOOTNOTELanger2000_69-5', '#cite_ref-FOOTNOTELanger2000_69-6', '#cite_ref-FOOTNOTELanger2000_69-7', '#cite_ref-FOOTNOTELanger2000_69-8', '#cite_ref-FOOTNOTELanger2000_69-9', '#cite_ref-FOOTNOTELanger2000_69-10', '#cite_ref-FOOTNOTELanger2000_69-11', '#CITEREFLanger2000', '#cite_ref-FOOTNOTEFinch199923–24Gabler2006129_70-0', '#CITEREFFinch1999', '#CITEREFGabler2006', '#cite_ref-FOOTNOTEFinch199926–27Langer2000_71-0', '#CITEREFFinch1999', '#CITEREFLanger2000', '#cite_ref-FOOTNOTEFinch199926–27Gabler2006142–44_73-0', '#CITEREFFinch1999', '#CITEREFGabler2006', '#cite_ref-FOOTNOTEKrasniewicz201059–60_74-0', '#CITEREFKrasniewicz2010', '#cite_ref-Time:_Rodent_75-0', '#cite_ref-Time:_Rodent_75-1', 'mw-data:TemplateStyles:r951705291', '#cite_ref-FOOTNOTEFinch199926–27Gabler2006142_76-0', '#CITEREFFinch1999', '#CITEREFGabler2006', '#cite_ref-FOOTNOTEGabler2006178_78-0', '#cite_ref-FOOTNOTEGabler2006178_78-1', '#CITEREFGabler2006', '#cite_ref-FOOTNOTEBarrier1999167Gabler2006179_79-0', '#CITEREFBarrier1999', '#CITEREFGabler2006', '#cite_ref-FOOTNOTEFinch199928_80-0', '#CITEREFFinch1999', '#cite_ref-FOOTNOTEBarrier200789–90_81-0', '#CITEREFBarrier2007', '#cite_ref-AA:_1932_82-0', 'https://web.archive.org/web/20160507092803/http://www.oscars.org/oscars/ceremonies/1933', 'http://www.oscars.org/oscars/ceremonies/1933', 'mw-data:TemplateStyles:r951705291', '#cite_ref-SoC:_3_Pigs_83-0', 'https://web.archive.org/web/20080422180415/http://www.sensesofcinema.com/contents/cteq/03/29/3_little_pigs.html', 'http://www.sensesofcinema.com/2003/cteq/3_little_pigs/', 'mw-data:TemplateStyles:r951705291', '#cite_ref-FOOTNOTEGabler2006184–86_84-0', '#CITEREFGabler2006', '#cite_ref-FOOTNOTELeeMadej201255–56_85-0', '#CITEREFLeeMadej2012', '#cite_ref-FOOTNOTEGabler2006186_86-0', '#CITEREFGabler2006', '#cite_ref-FOOTNOTEThomas1994129_87-0', '#CITEREFThomas1994', '#cite_ref-FOOTNOTEThomasJohnston199590_88-0', '#CITEREFThomasJohnston1995', '#cite_ref-FOOTNOTEGabler2006270_89-0', '#cite_ref-FOOTNOTEGabler2006270_89-1', '#CITEREFGabler2006', '#cite_ref-FOOTNOTEBarrier1999130Finch199959_90-0', '#CITEREFBarrier1999', '#CITEREFFinch1999', '#cite_ref-Disney_Myth_91-0', 'mw-data:TemplateStyles:r951705291', '#cite_ref-Disney_Experience_92-0', 'mw-data:TemplateStyles:r951705291', '#cite_ref-FOOTNOTEWilliamsDenneyDenney2004116_93-0', '#CITEREFWilliamsDenneyDenney2004', '#cite_ref-inflation-US_94-0', '#cite_ref-inflation-US_94-1', '#cite_ref-inflation-US_94-2', 'https://www.minneapolisfed.org/about-us/monetary-policy/inflation-calculator/consumer-price-index-1800-', 'mw-data:TemplateStyles:r951705291', '#cite_ref-AA:_1939_96-0', '#cite_ref-AA:_1939_96-1', 'https://web.archive.org/web/20160507092742/http://www.oscars.org/oscars/ceremonies/1939', 'http://www.oscars.org/oscars/ceremonies/1939', 'mw-data:TemplateStyles:r951705291', '#cite_ref-WDFM:_Golden_Age_98-0', 'https://web.archive.org/web/20090414052339/http://disney.go.com/disneyatoz/familymuseum/exhibits/articles/goldenage/index.html', 'http://disney.go.com/disneyatoz/familymuseum/exhibits/articles/goldenage/index.html', 'mw-data:TemplateStyles:r951705291', '#cite_ref-FOOTNOTEKrasniewicz201087_99-0', '#CITEREFKrasniewicz2010', '#cite_ref-FOOTNOTEThomas1994161–62Barrier2007152,_162–63_100-0', '#CITEREFThomas1994', '#CITEREFBarrier2007', '#cite_ref-FOOTNOTECeplairEnglund1983158Thomas1994163–65Barrier1999171–73_101-0', '#CITEREFCeplairEnglund1983', '#CITEREFThomas1994', '#CITEREFBarrier1999', '#cite_ref-FOOTNOTEThomas1994170–71Gabler2006370–71_102-0', '#CITEREFThomas1994', '#CITEREFGabler2006', '#cite_ref-FOOTNOTEFinch199976_103-0', '#CITEREFFinch1999', '#cite_ref-FOOTNOTEGabler2006394–95_104-0', '#CITEREFGabler2006', '#cite_ref-FOOTNOTELanger2000Gabler2006378_106-0', '#CITEREFLanger2000', '#CITEREFGabler2006', '#cite_ref-FOOTNOTEFinch199971Gabler2006380–81_107-0', '#CITEREFFinch1999', '#CITEREFGabler2006', '#cite_ref-FOOTNOTEThomas1994184–85Gabler2006382–83_108-0', '#CITEREFThomas1994', '#CITEREFGabler2006', '#cite_ref-FOOTNOTEGabler2006384–85_109-0', '#CITEREFGabler2006', '#cite_ref-FOOTNOTEFinch199977_110-0', '#CITEREFFinch1999', '#cite_ref-FOOTNOTEGabler2006399_111-0', '#CITEREFGabler2006', '#cite_ref-WDFM:_Fiscal_Crisis_112-0', 'https://web.archive.org/web/20140602200043/http://www.waltdisney.org/content/disney-brothers-face-fiscal-crisis', 'http://www.waltdisney.org/content/disney-brothers-face-fiscal-crisis', 'mw-data:TemplateStyles:r951705291', '#cite_ref-FOOTNOTEThomas1994186–87_114-0', '#CITEREFThomas1994', '#cite_ref-FOOTNOTEGabler2006445–46_116-0', '#CITEREFGabler2006', '#cite_ref-FOOTNOTEThomas1994227_117-0', '#CITEREFThomas1994', '#cite_ref-FOOTNOTEGabler2006452_118-0', '#CITEREFGabler2006', '#cite_ref-FOOTNOTEWatts2013240_119-0', '#CITEREFWatts2013', '#cite_ref-CNN:_HUAC_120-0', 'https://web.archive.org/web/20080514003423/http://www.cnn.com/SPECIALS/cold.war/episodes/06/documents/huac/disney.html', 'http://www.cnn.com/SPECIALS/cold.war/episodes/06/documents/huac/disney.html', 'mw-data:TemplateStyles:r951705291', '#cite_ref-FOOTNOTEGabler2006370_121-0', '#CITEREFGabler2006', '#cite_ref-122', 'https://www.nytimes.com/1993/05/06/movies/disney-link-to-the-fbi-and-hoover-is-disclosed.html', '/wiki/ISSN_(identifier)', '//www.worldcat.org/issn/0362-4331', 'mw-data:TemplateStyles:r951705291', '#cite_ref-FOOTNOTEBroggie20067,_109_123-0', '#CITEREFBroggie2006', '#cite_ref-FOOTNOTEBarrier2007219_124-0', '#CITEREFBarrier2007', '#cite_ref-FOOTNOTEBarrier2007220_125-0', '#CITEREFBarrier2007', '#cite_ref-FOOTNOTEFinch1999126–2Barrier2007221–23_127-0', '#CITEREFFinch1999', '#CITEREFBarrier2007', '#cite_ref-FOOTNOTECanemaker2001110_129-0', '#CITEREFCanemaker2001', '#cite_ref-WDFM:_Dreaming_130-0', 'https://web.archive.org/web/20060518072723/http://disney.go.com/disneyatoz/familymuseum/exhibits/articles/dreamingdisneyland/index.html', 'http://disney.go.com/disneyatoz/familymuseum/exhibits/articles/dreamingdisneyland/index.html', 'mw-data:TemplateStyles:r951705291', '#cite_ref-Disney_Myth_2_131-0', 'mw-data:TemplateStyles:r951705291', '#cite_ref-FOOTNOTEBarrier2007233–34_132-0', '#CITEREFBarrier2007', '#cite_ref-WDFM:_WED_133-0', 'https://web.archive.org/web/20151002204510/http://www.waltdisney.org/content/beginning-wed', 'http://www.waltdisney.org/content/beginning-wed', 'mw-data:TemplateStyles:r951705291', '#cite_ref-WDFM:_Genesis_134-0', 'https://web.archive.org/web/20081028031306/http://disney.go.com/disneyatoz/familymuseum/exhibits/articles/disneylandgenesis/index.html', 'http://disney.go.com/disneyatoz/familymuseum/exhibits/articles/disneylandgenesis/index.html', 'mw-data:TemplateStyles:r951705291', '#cite_ref-FOOTNOTEFinch1999139_135-0', '#CITEREFFinch1999', '#cite_ref-FOOTNOTEBarrier2007246_136-0', '#CITEREFBarrier2007', '#cite_ref-FOOTNOTEGabler2006524,_530–32_137-0', '#CITEREFGabler2006', '#cite_ref-FOOTNOTEEliot1995225–26_138-0', '#CITEREFEliot1995', '#cite_ref-FOOTNOTEGabler2006498_139-0', '#CITEREFGabler2006', '#cite_ref-NYT:_Topics_140-0', 'https://web.archive.org/web/20160507093724/http://query.nytimes.com/gst/abstract.html?res=9402E6DB103AE53BBC4A51DFB166838E649EDE', 'https://www.nytimes.com/1955/07/22/archives/topics-of-the-times.html', 'mw-data:TemplateStyles:r951705291', '#cite_ref-FOOTNOTEGabler2006537_141-0', '#CITEREFGabler2006', '#cite_ref-FOOTNOTEGabler2006508–09_142-0', '#CITEREFGabler2006', '#cite_ref-FOOTNOTEGabler2006511_143-0', '#cite_ref-FOOTNOTEGabler2006511_143-1', '#CITEREFGabler2006', '#cite_ref-NW:_Wonderful_145-0', 'mw-data:TemplateStyles:r951705291', '#cite_ref-FOOTNOTEGabler2006520–21_146-0', '#CITEREFGabler2006', '#cite_ref-FOOTNOTEBarrier2007245_147-0', '#CITEREFBarrier2007', '#cite_ref-FOOTNOTEGabler2006514_148-0', '#CITEREFGabler2006', '#cite_ref-FOOTNOTEThomas1994257_149-0', '#CITEREFThomas1994', '#cite_ref-FOOTNOTEHollisEhrbar20065–12,_20_150-0', '#CITEREFHollisEhrbar2006', '#cite_ref-FOOTNOTEGabler2006566_151-0', '#CITEREFGabler2006', '#cite_ref-AA:1957_152-0', 'https://web.archive.org/web/20160507092819/http://www.oscars.org/oscars/ceremonies/1957', 'http://www.oscars.org/oscars/ceremonies/1957', 'mw-data:TemplateStyles:r951705291', '#cite_ref-FOOTNOTEFinch199982–85_154-0', '#CITEREFFinch1999', '#cite_ref-FOOTNOTEFinch1999130_155-0', '#CITEREFFinch1999', '#cite_ref-DT:_Travers_dislike_156-0', 'https://web.archive.org/web/20160414231355/http://www.telegraph.co.uk/culture/film/film-news/9195930/Story-of-how-Mary-Poppins-author-regretted-selling-rights-to-Disney-to-be-turned-into-film.html', 'https://www.telegraph.co.uk/culture/film/film-news/9195930/Story-of-how-Mary-Poppins-author-regretted-selling-rights-to-Disney-to-be-turned-into-film.html', 'mw-data:TemplateStyles:r951705291', '#cite_ref-FOOTNOTEThomas1994298_157-0', '#CITEREFThomas1994', '#cite_ref-FOOTNOTEBarrier2007293_158-0', '#CITEREFBarrier2007', '#cite_ref-WDFM:_Fair_159-0', 'https://web.archive.org/web/20160413003545/http://www.waltdisney.org/blog/look-closer-1964-new-york-world%E2%80%99s-fair', 'http://www.waltdisney.org/blog/look-closer-1964-new-york-world%E2%80%99s-fair', 'mw-data:TemplateStyles:r951705291', '#cite_ref-FOOTNOTEGabler2006621–23_160-0', '#CITEREFGabler2006', '#cite_ref-Ski:_Schaeffler_161-0', 'mw-data:TemplateStyles:r951705291', '#cite_ref-FOOTNOTEGabler2006631_162-0', '#CITEREFGabler2006', '#cite_ref-FOOTNOTEGabler2006606–08_164-0', '#CITEREFGabler2006', '#cite_ref-FOOTNOTEBeard198211_165-0', '#CITEREFBeard1982', '#cite_ref-FOOTNOTEThomas1994307_166-0', '#CITEREFThomas1994', '#cite_ref-FOOTNOTEThomas1994343Barrier2007276_167-0', '#CITEREFThomas1994', '#CITEREFBarrier2007', '#cite_ref-FOOTNOTEGabler2006626–31_168-0', '#CITEREFGabler2006', '#cite_ref-FOOTNOTEMosley1990298_169-0', '#CITEREFMosley1990', '#cite_ref-FOOTNOTEEliot1995268_170-0', '#CITEREFEliot1995', '#cite_ref-WFP:_Frozen_171-0', 'https://www.winnipegfreepress.com/business/finance/estate-planning-lessons-from-the-magic-kingdom-50836787.html', '/wiki/Winnipeg_Free_Press', 'mw-data:TemplateStyles:r951705291', '#cite_ref-FOOTNOTEDobson2009220_173-0', '#CITEREFDobson2009', '#cite_ref-USA_Today_174-0', 'https://web.archive.org/web/20160401082520/http://usatoday30.usatoday.com/life/movies/reviews/2010-03-26-beauty26_ST_N.htm', 'https://www.usatoday.com/life/movies/reviews/2010-03-26-beauty26_ST_N.htm', 'mw-data:TemplateStyles:r951705291', '#cite_ref-WDS:_History_175-0', 'https://web.archive.org/web/20160509015731/http://waltdisneystudios.com/static/The%20History%20of%20TWDS.pdf', 'http://waltdisneystudios.com/static/The%20History%20of%20TWDS.pdf', 'mw-data:TemplateStyles:r951705291', '#cite_ref-Esquire:_EPCOT_176-0', 'https://web.archive.org/web/20160325041137/http://www.esquire.com/entertainment/news/a35104/walt-disney-epcot-history-city-of-tomorrow/', 'http://www.esquire.com/entertainment/news/a35104/walt-disney-epcot-history-city-of-tomorrow/', 'mw-data:TemplateStyles:r951705291', '#cite_ref-DWR:_WH_177-0', 'mw-data:TemplateStyles:r951705291', '#cite_ref-FOOTNOTEThomas1994357–58_178-0', '#CITEREFThomas1994', '#cite_ref-ATT:_EPCOT_180-0', 'https://web.archive.org/web/20160304202409/http://techchannel.att.com/play-video.cfm/2012/2/3/AT%26T-Archives-Epcot', 'http://techchannel.att.com/play-video.cfm/2012/2/3/AT&T-Archives-Epcot', 'mw-data:TemplateStyles:r951705291', '#cite_ref-WDFM:_About_181-0', 'https://web.archive.org/web/20140330224647/http://www.waltdisney.org/about-us', 'http://www.waltdisney.org/about-us', 'mw-data:TemplateStyles:r951705291', '#cite_ref-NYT:_WDFM_182-0', 'https://web.archive.org/web/20130618074450/http://www.nytimes.com/2009/10/01/arts/design/01disney.html?pagewanted=1&_r=0', 'https://www.nytimes.com/2009/10/01/arts/design/01disney.html?pagewanted=1', 'mw-data:TemplateStyles:r951705291', '#cite_ref-NYDNOctober2015_183-0', 'https://web.archive.org/web/20160521150431/http://www.nydailynews.com/news/national/13-disney-parks-article-1.2381618', 'http://www.nydailynews.com/news/national/13-disney-parks-article-1.2381618', 'mw-data:TemplateStyles:r951705291', '#cite_ref-FOOTNOTEPierce1987100_184-0', '#CITEREFPierce1987', '#cite_ref-Variety:_Dream_Is_a_Wish_185-0', 'https://web.archive.org/web/20160505084621/http://variety.com/2001/tv/reviews/walt-the-man-behind-the-myth-1200469954/', 'https://variety.com/2001/tv/reviews/walt-the-man-behind-the-myth-1200469954/', 'mw-data:TemplateStyles:r951705291', '#cite_ref-Saving_Mr_Banks_186-0', 'https://web.archive.org/web/20131219232202/http://www.latimes.com/entertainment/envelope/moviesnow/la-et-mn-saving-mr-banks-tom-hanks-envelope-screening-series-20131218%2C0%2C1857959.story', 'https://www.latimes.com/entertainment/envelope/moviesnow/la-et-mn-saving-mr-banks-tom-hanks-envelope-screening-series-20131218,0,1857959.story', 'mw-data:TemplateStyles:r951705291', '#cite_ref-DT:_Perfect_Am_187-0', 'https://web.archive.org/web/20160426053955/http://www.telegraph.co.uk/culture/film/10064623/Walt-Disney-hero-or-villain.html', 'https://www.telegraph.co.uk/culture/film/10064623/Walt-Disney-hero-or-villain.html', 'mw-data:TemplateStyles:r951705291', '#cite_ref-Nominee_Facts_188-0', 'https://web.archive.org/web/20160402095027/http://awardsdatabase.oscars.org/ampas_awards/help/statistics/Gen-NomsFacts.pdf', 'http://awardsdatabase.oscars.org/ampas_awards/help/statistics/Gen-NomsFacts.pdf', 'mw-data:TemplateStyles:r951705291', '#cite_ref-GG:_WD_189-0', 'https://web.archive.org/web/20160401004246/http://www.goldenglobes.com/person/walt-disney', 'http://www.goldenglobes.com/person/walt-disney', 'mw-data:TemplateStyles:r951705291', '#cite_ref-Emmy:_Awards_190-0', 'https://web.archive.org/web/20160331144805/http://www.emmys.com/bios/walt-disney', 'http://www.emmys.com/bios/walt-disney', 'mw-data:TemplateStyles:r951705291', '#cite_ref-LoC:_Film_Registry_191-0', 'https://web.archive.org/web/20160407144839/https://www.loc.gov/programs/national-film-preservation-board/film-registry/complete-national-film-registry-listing', 'https://www.loc.gov/programs/national-film-preservation-board/film-registry/complete-national-film-registry-listing/', 'mw-data:TemplateStyles:r951705291', '#cite_ref-AFI:_100_192-0', 'https://web.archive.org/web/20160424004920/http://www.afi.com/100Years/movies.aspx', 'http://www.afi.com/100years/movies.aspx', 'mw-data:TemplateStyles:r951705291', '#cite_ref-Hollywood_WoF_193-0', 'https://web.archive.org/web/20160319193037/http://www.walkoffame.com/walt-disney', '/wiki/Hollywood_Walk_of_Fame', 'http://www.walkoffame.com/walt-disney', 'mw-data:TemplateStyles:r951705291', '#cite_ref-Hollywood_WoF:_MM_194-0', 'https://web.archive.org/web/20160403111315/http://walkoffame.com/mickey-mouse', 'http://www.walkoffame.com/mickey-mouse', 'mw-data:TemplateStyles:r951705291', '#cite_ref-Emmy:_HoF_195-0', 'https://web.archive.org/web/20160402004406/https://www.emmys.com/awards/hall-of-fame-honorees', 'http://www.emmys.com/awards/hall-of-fame-honorees', 'mw-data:TemplateStyles:r951705291', '#cite_ref-CHoF:_WD_196-0', 'https://web.archive.org/web/20160304235823/http://vault.sierraclub.org/john_muir_exhibit/life/ca_hall_of_fame.aspx', 'http://vault.sierraclub.org/john_muir_exhibit/life/ca_hall_of_fame.aspx', 'mw-data:TemplateStyles:r951705291', '#cite_ref-OC_Walk_of_Stars_197-0', 'https://web.archive.org/web/20160305204240/http://www.ocregister.com/articles/walk-52629-first-orange.html', 'http://www.ocregister.com/articles/walk-52629-first-orange.html', 'mw-data:TemplateStyles:r951705291', '#cite_ref-Guard:_Legion_198-0', 'mw-data:TemplateStyles:r951705291', '#cite_ref-SMT:_Academie_199-0', 'mw-data:TemplateStyles:r951705291', '#cite_ref-200', 'https://books.google.es/books?id=dp2JDAAAQBAJ&pg=PA215&lpg=PA215&dq=Verdienstorden+der+Bundesrepublik+Deutschland+walt+disney&source=bl&ots=r7N0ThTFY6&sig=ACfU3U1dCEk8h_xYvJqhH81YX8qeM9nbpA&hl=es&sa=X&ved=2ahUKEwj-itWB8NvnAhVM8OAKHWliDDkQ6AEwAHoECAsQAQ#v=onepage&q=Verdienstorden%20der%20Bundesrepublik%20Deutschland%20walt%20disney&f=false', '#cite_ref-201', 'http://www.unirio.br/cch/escoladehistoria/pos-graduacao/ppgh/dissertacao_pablo-hernandez', '#cite_ref-CalMuseum_202-0', '#cite_ref-CalMuseum_202-1', 'https://web.archive.org/web/20160406123002/http://www.californiamuseum.org/inductee/walt-disney', 'http://www.californiamuseum.org/inductee/walt-disney', 'mw-data:TemplateStyles:r951705291', '#cite_ref-WP:_Freedom_203-0', 'mw-data:TemplateStyles:r951705291', '#cite_ref-VNN:_CGM_204-0', 'https://www.newspapers.com/image/7258240/?terms=Walt%2BDisney%2BHonored%2BWith%2BCongressional%2BGold%2BMedal', 'mw-data:TemplateStyles:r951705291', '#cite_ref-Audubon_Medal_205-0', 'https://web.archive.org/web/20160519214319/https://news.google.com/newspapers?nid=1350&dat=19551116&id=8r9OAAAAIBAJ&sjid=lwAEAAAAIBAJ&pg=3770,22870', 'https://news.google.com/newspapers?nid=1350&dat=19551116&id=8r9OAAAAIBAJ&pg=3770,22870', 'mw-data:TemplateStyles:r951705291', '#cite_ref-FOOTNOTESchmadel2003342_206-0', '#CITEREFSchmadel2003', '#cite_ref-PBS_trailer_2_207-0', 'https://web.archive.org/web/20151024012444/https://www.youtube.com/watch?v=TRu7ka4eD8k', 'https://www.youtube.com/watch?v=TRu7ka4eD8k', 'mw-data:TemplateStyles:r951705291', '#cite_ref-FOOTNOTEGabler2006204_208-0', '#CITEREFGabler2006', '#cite_ref-FOOTNOTESchickel1986341_209-0', '#CITEREFSchickel1986', '#cite_ref-FOOTNOTEGabler2006205_210-0', '#cite_ref-FOOTNOTEGabler2006205_210-1', '#CITEREFGabler2006', '#cite_ref-PBS_trailer_1_211-0', 'https://web.archive.org/web/20151024012444/https://www.youtube.com/watch?v=TRu7ka4eD8k', 'https://www.youtube.com/watch?v=TRu7ka4eD8k', 'mw-data:TemplateStyles:r951705291', '#cite_ref-FOOTNOTENorman201364_212-0', '#CITEREFNorman2013', '#cite_ref-FOOTNOTEKrasniewicz201077_213-0', '#CITEREFKrasniewicz2010', '#cite_ref-FOOTNOTEWatts199584_214-0', '#cite_ref-FOOTNOTEWatts199584_214-1', '#CITEREFWatts1995', '#cite_ref-PBS:_AmEx_215-0', 'https://web.archive.org/web/20160404133927/http://www.pbs.org/wgbh/americanexperience/films/walt-disney/', 'https://www.pbs.org/wgbh/americanexperience/films/walt-disney/', 'mw-data:TemplateStyles:r951705291', '#cite_ref-FOOTNOTEGabler2006x_216-0', '#cite_ref-FOOTNOTEGabler2006x_216-1', '#CITEREFGabler2006', '#cite_ref-Obs:_Snow_White_217-0', '/wiki/C._A._Lejeune', 'mw-data:TemplateStyles:r951705291', '#cite_ref-Times:_Fantasia_218-0', 'mw-data:TemplateStyles:r951705291', '#cite_ref-Obs:_Alice_219-0', '/wiki/C._A._Lejeune', 'mw-data:TemplateStyles:r951705291', '#cite_ref-Times:_PP_220-0', 'mw-data:TemplateStyles:r951705291', '#cite_ref-NYT:_Dargis_221-0', 'https://web.archive.org/web/20130912232143/http://www.nytimes.com/2011/09/25/movies/conflicting-voices-in-lars-von-triers-words-and-works.html?scp=1&sq=And%20Now%20a%20Word%20from&st=Search&_r=0', 'https://www.nytimes.com/2011/09/25/movies/conflicting-voices-in-lars-von-triers-words-and-works.html?scp=1&sq=And%20Now%20a%20Word%20from&st=Search', 'mw-data:TemplateStyles:r951705291', '#cite_ref-FOOTNOTEGabler2006448_222-0', '#CITEREFGabler2006', '#cite_ref-FOOTNOTEGabler2006448,_457_223-0', '#cite_ref-FOOTNOTEGabler2006448,_457_223-1', '#CITEREFGabler2006', '#cite_ref-FOOTNOTEGabler2006456_225-0', '#cite_ref-FOOTNOTEGabler2006456_225-1', '#CITEREFGabler2006', '#cite_ref-Creative_Explosion_226-0', '#cite_ref-Creative_Explosion_226-1', 'https://web.archive.org/web/20080607073752/http://disney.go.com/disneyatoz/familymuseum/collection/insidestory/inside_1933d.html', 'http://disney.go.com/disneyatoz/familymuseum/collection/insidestory/inside_1933d.html', 'mw-data:TemplateStyles:r951705291', '#cite_ref-FOOTNOTEGabler2006455_228-0', '#cite_ref-FOOTNOTEGabler2006455_228-1', '#CITEREFGabler2006', '#cite_ref-CBS:_Gabler_230-0', 'https://web.archive.org/web/20160313010654/http://www.cbsnews.com/news/walt-disney-more-than-toons-theme-parks/', 'https://www.cbsnews.com/stories/2006/11/01/earlyshow/leisure/books/main2141735.shtml', 'mw-data:TemplateStyles:r951705291', '#cite_ref-FOOTNOTEGabler2006611_231-0', '#CITEREFGabler2006', '#cite_ref-FOOTNOTEGabler2006433_232-0', '#cite_ref-FOOTNOTEGabler2006433_232-1', '#cite_ref-FOOTNOTEGabler2006433_232-2', '#CITEREFGabler2006', '#cite_ref-FOOTNOTECohen200460_234-0', '#CITEREFCohen2004', '#cite_ref-FOOTNOTEGabler2006438–39_235-0', '#cite_ref-FOOTNOTEGabler2006438–39_235-1', '#CITEREFGabler2006', '#cite_ref-FOOTNOTEKorkis2012xi_237-0', '#CITEREFKorkis2012', '#cite_ref-FOOTNOTEWatts1995107_238-0', '#CITEREFWatts1995', '#cite_ref-FOOTNOTETelotte200819_239-0', '#CITEREFTelotte2008', '#cite_ref-FOOTNOTETomlinson200141_240-0', '#CITEREFTomlinson2001', '#cite_ref-FOOTNOTETomlinson200144_241-0', '#CITEREFTomlinson2001', '#cite_ref-FOOTNOTEMannheim201640Krasniewicz2010xxiiWatts201358Painter200825_242-0', '#CITEREFMannheim2016', '#CITEREFKrasniewicz2010', '#CITEREFWatts2013', '#CITEREFPainter2008', '#cite_ref-Izard:_Master_243-0', '/wiki/Doi_(identifier)', 'https://doi.org/10.1080%2F01619566709537484', '/wiki/JSTOR_(identifier)', '//www.jstor.org/stable/1491447', 'mw-data:TemplateStyles:r951705291', '#cite_ref-Times:_Obit_244-0', 'mw-data:TemplateStyles:r951705291', '#cite_ref-Guard:_Cooke_245-0', '/wiki/Alistair_Cooke', 'mw-data:TemplateStyles:r951705291', '/wiki/Michael_Barrier', 'https://books.google.com/books?id=zDJXnzMh7bkC&pg=PP1', '/wiki/ISBN_(identifier)', '/wiki/Special:BookSources/978-0-19-503759-3', '/wiki/Category:CS1_maint:_ref%3Dharv', 'mw-data:TemplateStyles:r951705291', '/wiki/Michael_Barrier', 'https://archive.org/details/animatedmanlifeo00barr', '/wiki/ISBN_(identifier)', '/wiki/Special:BookSources/978-0-520-24117-6', '/wiki/Category:CS1_maint:_ref%3Dharv', 'mw-data:TemplateStyles:r951705291', 'https://books.google.com/books?id=VpzpAAAAMAAJ', '/wiki/ISBN_(identifier)', '/wiki/Special:BookSources/978-0-8109-0821-5', '/wiki/Category:CS1_maint:_ref%3Dharv', 'mw-data:TemplateStyles:r951705291', '/wiki/Michael_Broggie', 'https://books.google.com/books?id=BupsDEZOLYUC&pg=PP1', '/wiki/ISBN_(identifier)', '/wiki/Special:BookSources/978-0-9758584-2-4', '/wiki/Category:CS1_maint:_ref%3Dharv', 'mw-data:TemplateStyles:r951705291', 'https://books.google.com/books?id=YxYRAQAAMAAJ', '/wiki/ISBN_(identifier)', '/wiki/Special:BookSources/978-0-7868-6496-6', '/wiki/Category:CS1_maint:_ref%3Dharv', 'mw-data:TemplateStyles:r951705291', 'https://archive.org/details/bub_gb_HvC3WaGZF3UC', '/wiki/ISBN_(identifier)', '/wiki/Special:BookSources/978-0-520-04886-7', '/wiki/Category:CS1_maint:_ref%3Dharv', 'mw-data:TemplateStyles:r951705291', 'https://books.google.com/books?id=GXhzAQAAQBAJ&pg=PP1', '/wiki/ISBN_(identifier)', '/wiki/Special:BookSources/978-1-4766-0725-2', '/wiki/Category:CS1_maint:_ref%3Dharv', 'mw-data:TemplateStyles:r951705291', 'https://books.google.com/books?id=ONfIedLRIZMC&pg=PP1', '/wiki/ISBN_(identifier)', '/wiki/Special:BookSources/978-0-8108-6323-1', '/wiki/Category:CS1_maint:_ref%3Dharv', 'mw-data:TemplateStyles:r951705291', 'https://books.google.com/books?id=fn_WAAAAMAAJ', '/wiki/ISBN_(identifier)', '/wiki/Special:BookSources/978-0-233-98961-7', '/wiki/Category:CS1_maint:_ref%3Dharv', 'mw-data:TemplateStyles:r951705291', '/wiki/ISBN_(identifier)', '/wiki/Special:BookSources/978-0-7535-0344-7', '/wiki/Category:CS1_maint:_ref%3Dharv', 'mw-data:TemplateStyles:r951705291', '/wiki/Neal_Gabler', '/wiki/ISBN_(identifier)', '/wiki/Special:BookSources/978-1-84513-277-4', '/wiki/Category:CS1_maint:_ref%3Dharv', 'mw-data:TemplateStyles:r951705291', 'https://books.google.com/books?id=jGdpWCTdb-IC&pg=PP1', '/wiki/ISBN_(identifier)', '/wiki/Special:BookSources/978-1-61703-433-6', '/wiki/Category:CS1_maint:_ref%3Dharv', 'mw-data:TemplateStyles:r951705291', 'https://archive.org/details/whosafraidofsong0000kork', '/wiki/ISBN_(identifier)', '/wiki/Special:BookSources/978-0-9843415-5-9', '/wiki/Category:CS1_maint:_ref%3Dharv', 'mw-data:TemplateStyles:r951705291', 'https://books.google.com/books?id=lZ3vTgpHgFoC&pg=PP1', '/wiki/ISBN_(identifier)', '/wiki/Special:BookSources/978-0-313-35830-2', '/wiki/Category:CS1_maint:_ref%3Dharv', 'mw-data:TemplateStyles:r951705291', 'http://www.anb.org/articles/18/18-00309.html', '/wiki/Category:CS1_maint:_ref%3Dharv', 'mw-data:TemplateStyles:r951705291', '/wiki/Newton_Lee', 'https://books.google.com/books?id=E9GVJJqNjGAC&pg=PR4', '/wiki/ISBN_(identifier)', '/wiki/Special:BookSources/978-1-4614-2101-6', '/wiki/Category:CS1_maint:_ref%3Dharv', 'mw-data:TemplateStyles:r951705291', 'https://books.google.com/books?id=ZfufCwAAQBAJ&pg=PP1', '/wiki/ISBN_(identifier)', '/wiki/Special:BookSources/978-1-317-00058-7', '/wiki/Category:CS1_maint:_ref%3Dharv', 'mw-data:TemplateStyles:r951705291', '/wiki/Leonard_Mosley', 'https://books.google.com/books?id=eaKoZtJqPc0C&pg=PP1', '/wiki/ISBN_(identifier)', '/wiki/Special:BookSources/978-1-58979-656-0', '/wiki/Category:CS1_maint:_ref%3Dharv', 'mw-data:TemplateStyles:r951705291', 'https://books.google.com/books?id=vPPUBAAAQBAJ&pg=PP1', '/wiki/ISBN_(identifier)', '/wiki/Special:BookSources/978-1-937994-97-6', '/wiki/Category:CS1_maint:_ref%3Dharv', 'mw-data:TemplateStyles:r951705291', '/wiki/Floyd_Norman', 'https://books.google.com/books?id=mRz1f96psuwC&pg=PP1', '/wiki/ISBN_(identifier)', '/wiki/Special:BookSources/978-0-240-81805-4', '/wiki/Category:CS1_maint:_ref%3Dharv', 'mw-data:TemplateStyles:r951705291', '/wiki/Category:CS1_maint:_ref%3Dharv', 'mw-data:TemplateStyles:r951705291', 'https://archive.org/details/foundationsofsci00pier', '/wiki/ISBN_(identifier)', '/wiki/Special:BookSources/978-0-313-25455-0', '/wiki/Category:CS1_maint:_ref%3Dharv', 'mw-data:TemplateStyles:r951705291', '/wiki/Richard_Schickel', 'https://books.google.com/books?id=3yY3AQAAIAAJ', '/wiki/ISBN_(identifier)', '/wiki/Special:BookSources/978-1-85145-007-7', '/wiki/Category:CS1_maint:_ref%3Dharv', 'mw-data:TemplateStyles:r951705291', 'https://books.google.com/books?id=VoJ5nUyIzCsC&lpg=PP1&pg=PP1#v=onepage', '/wiki/ISBN_(identifier)', '/wiki/Special:BookSources/978-3-540-00238-3', '/wiki/Category:CS1_maint:_ref%3Dharv', 'mw-data:TemplateStyles:r951705291', 'https://books.google.com/books?id=6pA45zYWgYQC&pg=PP1', '/wiki/ISBN_(identifier)', '/wiki/Special:BookSources/978-0-252-09263-3', '/wiki/Category:CS1_maint:_ref%3Dharv', 'mw-data:TemplateStyles:r951705291', '/wiki/Bob_Thomas_(reporter)', 'https://books.google.com/books?id=oIElNyj_cJkC', '/wiki/ISBN_(identifier)', '/wiki/Special:BookSources/978-0-7868-6027-2', '/wiki/Category:CS1_maint:_ref%3Dharv', 'mw-data:TemplateStyles:r951705291', '/wiki/Frank_Thomas_(animator)', '/wiki/Ollie_Johnston', '/wiki/ISBN_(identifier)', '/wiki/Special:BookSources/0-7868-6070-7', '/wiki/Category:CS1_maint:_ref%3Dharv', 'mw-data:TemplateStyles:r951705291', 'https://books.google.com/books?id=0CFMS0z5-gcC&pg=PP1', '/wiki/ISBN_(identifier)', '/wiki/Special:BookSources/978-0-8264-5013-5', '/wiki/Category:CS1_maint:_ref%3Dharv', 'mw-data:TemplateStyles:r951705291', '/wiki/Doi_(identifier)', 'https://doi.org/10.2307%2F2081916', '/wiki/JSTOR_(identifier)', '//www.jstor.org/stable/2081916', '/wiki/Category:CS1_maint:_ref%3Dharv', 'mw-data:TemplateStyles:r951705291', 'https://books.google.com/books?id=I6q6PinOBcQC&pg=PP1', '/wiki/ISBN_(identifier)', '/wiki/Special:BookSources/978-0-8262-7300-0', '/wiki/Category:CS1_maint:_ref%3Dharv', 'mw-data:TemplateStyles:r951705291', 'https://archive.org/details/howtobelikewalt0000will', '/wiki/ISBN_(identifier)', '/wiki/Special:BookSources/978-0-7573-0231-2', '/wiki/Category:CS1_maint:_ref%3Dharv', 'mw-data:TemplateStyles:r951705291', 'https://books.google.com/books?id=XojpGlFvAq0C&pg=PP1', '/wiki/ISBN_(identifier)', '/wiki/Special:BookSources/978-2-88893-014-3', '/wiki/Category:CS1_maint:_ref%3Dharv', 'mw-data:TemplateStyles:r951705291', 'https://www.imdb.com/name/nm0000370/', '/wiki/IMDb', 'http://www.tcm.turner.com/participant/participant.jsp?participantId=50875', '/wiki/Turner_Classic_Movies', 'https://www.wikidata.org/wiki/Q8704#P3056', '//worldcat.org/identities/lccn-n78-95660', '/wiki/WorldCat', 'http://www.waltdisney.org/', 'http://www.thewaltdisneybirthplace.org/', 'https://interviews.televisionacademy.com/people/walt-disney', '/wiki/The_Interviews:_An_Oral_History_of_Television', 'https://vault.fbi.gov/walter-elias-disney', '/wiki/Mickey_Mouse', '/wiki/Jimmy_MacDonald_(sound_effects_artist)', '/wiki/Template:Academy_Honorary_Award', '/wiki/Template_talk:Academy_Honorary_Award', 'https://en.wikipedia.org/w/index.php?title=Template:Academy_Honorary_Award&action=edit', '/wiki/Academy_Honorary_Award', '/wiki/Warner_Bros.', '/wiki/Charlie_Chaplin', '/wiki/Shirley_Temple', '/wiki/D._W._Griffith', '/wiki/The_March_of_Time', '/wiki/W._Howard_Greene', '/wiki/Harold_Rosson', '/wiki/Edgar_Bergen', '/wiki/W._Howard_Greene', '/wiki/Museum_of_Modern_Art_Department_of_Film', '/wiki/Mack_Sennett', '/wiki/Joseph_A._Ball', '/wiki/Deanna_Durbin', '/wiki/Mickey_Rooney', '/wiki/Gordon_Jennings', '/wiki/Jan_Domela', '/wiki/Farciot_Edouart', '/wiki/Loyal_Griggs', '/wiki/Loren_L._Ryder', '/wiki/Louis_Mesenkop', '/wiki/Oliver_T._Marsh', '/wiki/Harry_Warner', '/wiki/Douglas_Fairbanks', '/wiki/Judy_Garland', '/wiki/William_Cameron_Menzies', '/wiki/Motion_Picture_%26_Television_Fund', '/wiki/Jean_Hersholt', '/wiki/Ralph_Morgan', '/wiki/Ralph_Block', '/wiki/Conrad_Nagel', '/wiki/Technicolor_SA', '/wiki/Bob_Hope', '/wiki/Nathan_Levinson', '/wiki/William_Garity', '/wiki/RCA', '/wiki/Leopold_Stokowski', '/wiki/Ministry_of_Information_(United_Kingdom)', '/wiki/Charles_Boyer', '/wiki/No%C3%ABl_Coward', '/wiki/Metro-Goldwyn-Mayer', '/wiki/George_Pal', '/wiki/Bob_Hope', '/wiki/Margaret_O%27Brien', '/wiki/Daniel_J._Bloomberg', '/wiki/Walter_Wanger', '/wiki/The_House_I_Live_In_(1945_film)', '/wiki/Peggy_Ann_Garner', '/wiki/Harold_Russell', '/wiki/Laurence_Olivier', '/wiki/Ernst_Lubitsch', '/wiki/Claude_Jarman_Jr.', '/wiki/James_Baskett', '/wiki/Thomas_Armat', '/wiki/William_Nicholas_Selig', '/wiki/Albert_E._Smith_(producer)', '/wiki/George_Kirke_Spoor', '/wiki/Bill_and_Coo', '/wiki/Shoeshine_(film)', '/wiki/Walter_Wanger', '/wiki/Monsieur_Vincent', '/wiki/Sid_Grauman', '/wiki/Adolph_Zukor', '/wiki/Jean_Hersholt', '/wiki/Fred_Astaire', '/wiki/Cecil_B._DeMille', '/wiki/Bicycle_Thieves', '/wiki/Louis_B._Mayer', '/wiki/George_Murphy', '/wiki/The_Walls_of_Malapaga', '/wiki/Gene_Kelly', '/wiki/Rashomon', '/wiki/Merian_C._Cooper', '/wiki/Bob_Hope', '/wiki/Harold_Lloyd', '/wiki/Joseph_M._Schenck', '/wiki/Forbidden_Games', '/wiki/20th_Century_Studios', '/wiki/Bell_%26_Howell', '/wiki/Joseph_Breen', '/wiki/Pete_Smith_(film_producer)', '/wiki/Bausch_%26_Lomb', '/wiki/Danny_Kaye', '/wiki/Greta_Garbo', '/wiki/Jon_Whiteley', '/wiki/Vincent_Winter', '/wiki/Gate_of_Hell_(film)', '/wiki/Samurai_I:_Musashi_Miyamoto', '/wiki/Eddie_Cantor', '/wiki/Society_of_Motion_Picture_and_Television_Engineers', '/wiki/Broncho_Billy_Anderson', '/wiki/Charles_Brackett', '/wiki/B._B._Kahane', '/wiki/Maurice_Chevalier', '/wiki/Buster_Keaton', '/wiki/Lee_de_Forest', '/wiki/Gary_Cooper', '/wiki/Stan_Laurel', '/wiki/Hayley_Mills', '/wiki/William_L._Hendricks', '/wiki/Jerome_Robbins', '/wiki/William_J._Tuttle', '/wiki/Bob_Hope', '/wiki/Yakima_Canutt', '/wiki/Y._Frank_Freeman', '/wiki/Arthur_Freed', '/wiki/John_Chambers_(make-up_artist)', '/wiki/Onna_White', '/wiki/Cary_Grant', '/wiki/Lillian_Gish', '/wiki/Orson_Welles', '/wiki/Charlie_Chaplin', '/wiki/Edward_G._Robinson', '/wiki/Henri_Langlois', '/wiki/Groucho_Marx', '/wiki/Howard_Hawks', '/wiki/Jean_Renoir', '/wiki/Mary_Pickford', '/wiki/Margaret_Booth', '/wiki/Walter_Lantz', '/wiki/Laurence_Olivier', '/wiki/King_Vidor', '/wiki/Museum_of_Modern_Art', '/wiki/Alec_Guinness', '/wiki/Henry_Fonda', '/wiki/Barbara_Stanwyck', '/wiki/Mickey_Rooney', '/wiki/Hal_Roach', '/wiki/James_Stewart', '/wiki/National_Endowment_for_the_Arts', '/wiki/Paul_Newman', '/wiki/Alex_North', '/wiki/Ralph_Bellamy', '/wiki/Kodak', '/wiki/National_Film_Board_of_Canada', '/wiki/Akira_Kurosawa', '/wiki/Sophia_Loren', '/wiki/Myrna_Loy', '/wiki/Satyajit_Ray', '/wiki/Federico_Fellini', '/wiki/Deborah_Kerr', '/wiki/Michelangelo_Antonioni', '/wiki/Kirk_Douglas', '/wiki/Chuck_Jones', '/wiki/Michael_Kidd', '/wiki/Stanley_Donen', '/wiki/Elia_Kazan', '/wiki/Andrzej_Wajda', '/wiki/Jack_Cardiff', '/wiki/Ernest_Lehman', '/wiki/Sidney_Poitier', '/wiki/Robert_Redford', '/wiki/Peter_O%27Toole', '/wiki/Blake_Edwards', '/wiki/Sidney_Lumet', '/wiki/Robert_Altman', '/wiki/Ennio_Morricone', '/wiki/Robert_F._Boyle', '/wiki/Lauren_Bacall', '/wiki/Roger_Corman', '/wiki/Gordon_Willis', '/wiki/Kevin_Brownlow', '/wiki/Jean-Luc_Godard', '/wiki/Eli_Wallach', '/wiki/James_Earl_Jones', '/wiki/Dick_Smith_(make-up_artist)', '/wiki/D._A._Pennebaker', '/wiki/Hal_Needham', '/wiki/George_Stevens_Jr.', '/wiki/Angela_Lansbury', '/wiki/Steve_Martin', '/wiki/Piero_Tosi', '/wiki/Jean-Claude_Carri%C3%A8re', '/wiki/Hayao_Miyazaki', '/wiki/Maureen_O%27Hara', '/wiki/Spike_Lee', '/wiki/Gena_Rowlands', '/wiki/Jackie_Chan', '/wiki/Lynn_Stalmaster', '/wiki/Anne_V._Coates', '/wiki/Frederick_Wiseman', '/wiki/Charles_Burnett_(director)', '/wiki/Owen_Roizman', '/wiki/Donald_Sutherland', '/wiki/Agn%C3%A8s_Varda', '/wiki/Marvin_Levy_(publicist)', '/wiki/Lalo_Schifrin', '/wiki/Cicely_Tyson', '/wiki/David_Lynch', '/wiki/Wes_Studi', '/wiki/Lina_Wertm%C3%BCller', '/wiki/Template:Cecil_B._DeMille_Award', '/wiki/Template_talk:Cecil_B._DeMille_Award', 'https://en.wikipedia.org/w/index.php?title=Template:Cecil_B._DeMille_Award&action=edit', '/wiki/Golden_Globe_Cecil_B._DeMille_Award', '/wiki/Cecil_B._DeMille', '/wiki/Darryl_F._Zanuck', '/wiki/Jean_Hersholt', '/wiki/Jack_L._Warner', '/wiki/Mervyn_LeRoy', '/wiki/Buddy_Adler', '/wiki/Maurice_Chevalier', '/wiki/Bing_Crosby', '/wiki/Fred_Astaire', '/wiki/Judy_Garland', '/wiki/Bob_Hope', '/wiki/Joseph_E._Levine', '/wiki/James_Stewart', '/wiki/John_Wayne', '/wiki/Charlton_Heston', '/wiki/Kirk_Douglas', '/wiki/Gregory_Peck', '/wiki/Joan_Crawford', '/wiki/Frank_Sinatra', '/wiki/Alfred_Hitchcock', '/wiki/Samuel_Goldwyn', '/wiki/Bette_Davis', '/wiki/Hal_B._Wallis', '/wiki/Walter_Mirisch', '/wiki/Red_Skelton', '/wiki/Lucille_Ball', '/wiki/Henry_Fonda', '/wiki/Gene_Kelly', '/wiki/Sidney_Poitier', '/wiki/Laurence_Olivier', '/wiki/Paul_Newman', '/wiki/Elizabeth_Taylor', '/wiki/Barbara_Stanwyck', '/wiki/Anthony_Quinn', '/wiki/Clint_Eastwood', '/wiki/Doris_Day', '/wiki/Audrey_Hepburn', '/wiki/Jack_Lemmon', '/wiki/Robert_Mitchum', '/wiki/Lauren_Bacall', '/wiki/Robert_Redford', '/wiki/Sophia_Loren', '/wiki/Sean_Connery', '/wiki/Dustin_Hoffman', '/wiki/Shirley_MacLaine', '/wiki/Jack_Nicholson', '/wiki/Barbra_Streisand', '/wiki/Al_Pacino', '/wiki/Harrison_Ford', '/wiki/Gene_Hackman', '/wiki/Michael_Douglas', '/wiki/Robin_Williams', '/wiki/Anthony_Hopkins', '/wiki/Warren_Beatty', '/wiki/Steven_Spielberg', '/wiki/Martin_Scorsese', '/wiki/Robert_De_Niro', '/wiki/Morgan_Freeman', '/wiki/Jodie_Foster', '/wiki/Woody_Allen', '/wiki/George_Clooney', '/wiki/Denzel_Washington', '/wiki/Meryl_Streep', '/wiki/Oprah_Winfrey', '/wiki/Jeff_Bridges', '/wiki/Tom_Hanks', '/wiki/Template:Honorary_C%C3%A9sar', '/wiki/Template_talk:Honorary_C%C3%A9sar', 'https://en.wikipedia.org/w/index.php?title=Template:Honorary_C%C3%A9sar&action=edit', '/wiki/Honorary_C%C3%A9sar', '/wiki/Ingrid_Bergman', '/wiki/Diana_Ross', '/wiki/Henri_Langlois', '/wiki/Jacques_Tati', '/wiki/Robert_Dorfmann', '/wiki/Ren%C3%A9_Goscinny', '/wiki/Marcel_Carn%C3%A9', '/wiki/Charles_Vanel', '/wiki/Pierre_Braunberger', '/wiki/Louis_de_Fun%C3%A8s', '/wiki/Kirk_Douglas', '/wiki/Marcel_Pagnol', '/wiki/Alain_Resnais', '/wiki/Georges_Dancigers', '/wiki/Alexandre_Mnouchkine', '/w/index.php?title=Jean_N%C3%A9ny&action=edit&redlink=1', '/wiki/Andrzej_Wajda', '/wiki/Raimu', '/wiki/Ren%C3%A9_Cl%C3%A9ment', '/wiki/Georges_de_Beauregard', '/wiki/Edwige_Feuill%C3%A8re', '/wiki/Christian-Jaque', '/wiki/Danielle_Darrieux', '/wiki/Christine_Gouze-R%C3%A9nal', '/wiki/Alain_Poir%C3%A9', '/wiki/Maurice_Jarre', '/wiki/Bette_Davis', '/wiki/Jean_Delannoy', '/w/index.php?title=Ren%C3%A9_Ferracci&action=edit&redlink=1', '/wiki/Claude_Lanzmann', '/wiki/Jean-Luc_Godard', '/wiki/Serge_Silberman', '/wiki/Bernard_Blier', '/wiki/Paul_Grimault', '/wiki/G%C3%A9rard_Philipe', '/wiki/Jean-Pierre_Aumont', '/wiki/Sophia_Loren', '/wiki/Mich%C3%A8le_Morgan', '/wiki/Sylvester_Stallone', '/wiki/Jean_Marais', '/wiki/Marcello_Mastroianni', '/wiki/G%C3%A9rard_Oury', '/wiki/Jean_Carmet', '/wiki/Jeanne_Moreau', '/wiki/Gregory_Peck', '/wiki/Steven_Spielberg', '/wiki/Lauren_Bacall', '/wiki/Henri_Verneuil', '/wiki/Charles_Aznavour', '/wiki/Andie_MacDowell', '/wiki/Michael_Douglas', '/wiki/Clint_Eastwood', '/wiki/Jean-Luc_Godard', '/wiki/Pedro_Almod%C3%B3var', '/wiki/Johnny_Depp', '/wiki/Jean_Rochefort', '/wiki/Josiane_Balasko', '/wiki/Georges_Cravenne', '/wiki/Jean-Pierre_L%C3%A9aud', '/wiki/Martin_Scorsese', '/wiki/Darry_Cowl', '/wiki/Charlotte_Rampling', '/wiki/Agn%C3%A8s_Varda', '/wiki/Anouk_Aim%C3%A9e', '/wiki/Jeremy_Irons', '/wiki/Claude_Rich', '/wiki/Bernadette_Lafont', '/wiki/Spike_Lee', '/wiki/Meryl_Streep', '/wiki/Micheline_Presle', '/wiki/Jacques_Dutronc', '/wiki/Will_Smith', '/wiki/Hugh_Grant', '/wiki/Pierre_Richard', '/wiki/Marl%C3%A8ne_Jobert', '/wiki/Jude_Law', '/wiki/Jeanne_Moreau', '/wiki/Roberto_Benigni', '/wiki/Dustin_Hoffman', '/wiki/Harrison_Ford', '/wiki/Quentin_Tarantino', '/wiki/Kate_Winslet', '/wiki/Kevin_Costner', '/wiki/Scarlett_Johansson', '/wiki/Sean_Penn', '/wiki/Michael_Douglas', '/wiki/George_Clooney', '/wiki/Pen%C3%A9lope_Cruz', '/wiki/Robert_Redford', '/wiki/Template:Thalberg_Award', '/wiki/Template_talk:Thalberg_Award', 'https://en.wikipedia.org/w/index.php?title=Template:Thalberg_Award&action=edit', '/wiki/Irving_G._Thalberg_Memorial_Award', '/wiki/Darryl_F._Zanuck', '/wiki/Hal_B._Wallis', '/wiki/David_O._Selznick', '/wiki/Sidney_Franklin_(director)', '/wiki/Hal_B._Wallis', '/wiki/Darryl_F._Zanuck', '/wiki/Samuel_Goldwyn', '/wiki/Jerry_Wald', '/wiki/Darryl_F._Zanuck', '/wiki/Arthur_Freed', '/wiki/Cecil_B._DeMille', '/wiki/George_Stevens', '/wiki/Buddy_Adler', '/wiki/Jack_L._Warner', '/wiki/Stanley_Kramer', '/wiki/Sam_Spiegel', '/wiki/William_Wyler', '/wiki/Robert_Wise', '/wiki/Alfred_Hitchcock', '/wiki/Ingmar_Bergman', '/wiki/Lawrence_Weingarten', '/wiki/Mervyn_LeRoy', '/wiki/Pandro_S._Berman', '/wiki/Walter_Mirisch', '/wiki/Ray_Stark', '/wiki/Albert_R._Broccoli', '/wiki/Steven_Spielberg', '/wiki/Billy_Wilder', '/wiki/David_Brown_(producer)', '/wiki/Richard_D._Zanuck', '/wiki/George_Lucas', '/wiki/Clint_Eastwood', '/wiki/Saul_Zaentz', '/wiki/Norman_Jewison', '/wiki/Warren_Beatty', '/wiki/Dino_De_Laurentiis', '/wiki/John_Calley', '/wiki/Francis_Ford_Coppola', '/wiki/Kathleen_Kennedy_(producer)', '/wiki/Frank_Marshall_(producer)', '/wiki/Template:1986_Television_Hall_of_Fame', '/wiki/Template_talk:1986_Television_Hall_of_Fame', 'https://en.wikipedia.org/w/index.php?title=Template:1986_Television_Hall_of_Fame&action=edit', '/wiki/Television_Hall_of_Fame', '/wiki/Steve_Allen', '/wiki/Fred_Coe', '/wiki/Jackie_Gleason', '/wiki/Mary_Tyler_Moore', '/wiki/Frank_Stanton_(executive)', '/wiki/Burr_Tillstrom', '/wiki/Template:Disney', '/wiki/Template_talk:Disney', 'https://en.wikipedia.org/w/index.php?title=Template:Disney&action=edit', '/wiki/The_Walt_Disney_Company', '/wiki/Timeline_of_The_Walt_Disney_Company', '/wiki/Impact_of_the_COVID-19_pandemic_on_The_Walt_Disney_Company', '/wiki/List_of_acquisitions_by_Disney', '/wiki/Criticism_of_The_Walt_Disney_Company', '/wiki/List_of_management_of_The_Walt_Disney_Company', '/wiki/Roy_O._Disney', '/wiki/Bob_Iger', '/wiki/Executive_Chairman', '/wiki/Bob_Chapek', '/wiki/Chief_executive_officer', '/wiki/Alan_N._Braverman', '/wiki/Vice_president', '/wiki/General_counsel', '/wiki/Christine_McCarthy', '/wiki/Chief_financial_officer', '/wiki/Zenia_Mucha', '/wiki/Public_relations_officer', '/wiki/Susan_Arnold', '/wiki/Mary_Barra', '/wiki/Safra_Catz', '/wiki/Bob_Chapek', '/wiki/Francis_deSouza', '/wiki/Michael_Froman', '/wiki/Bob_Iger', '/wiki/Chairman', '/wiki/Maria_Elena_Lagomasino', '/wiki/Mark_Parker', '/wiki/File:The_Walt_Disney_Company_Logo.svg', '/wiki/Walt_Disney_Studios_(division)', '/wiki/Walt_Disney_Studios_Motion_Pictures', '/wiki/Walt_Disney_Pictures', '/wiki/Disneynature', '/wiki/Walt_Disney_Animation_Studios', '/wiki/Pixar', '/wiki/Marvel_Studios', '/wiki/Lucasfilm', '/wiki/20th_Century_Studios', '/wiki/20th_Century_Fox_Animation', '/wiki/Blue_Sky_Studios', '/wiki/Fox_2000_Pictures', '/wiki/Searchlight_Pictures', '/wiki/Disney_Music_Group', '/wiki/Disney_Theatrical_Group', '/wiki/Walt_Disney_Television', '/wiki/American_Broadcasting_Company', '/wiki/ABC_Studios', '/wiki/20th_Century_Fox_Television', '/wiki/Fox_21_Television_Studios', '/wiki/Fox_Television_Animation', '/wiki/ABC_Owned_Television_Stations', '/wiki/Disney_Channels_Worldwide', '/wiki/Disney_Television_Animation', '/wiki/It%27s_a_Laugh_Productions', '/wiki/Freeform_(TV_channel)', '/wiki/FX_(TV_channel)', '/wiki/FX_(TV_channel)#FX_Productions', '/wiki/Hulu', '/wiki/National_Geographic_Global_Networks#Anglo-America', '/wiki/ESPN_Inc.', '/wiki/A%26E_Networks', '/wiki/Disney_Media_Distribution', '/wiki/Disney%E2%80%93ABC_Domestic_Television', '/wiki/Walt_Disney_Studios_Home_Entertainment', '/wiki/20th_Century_Fox_Home_Entertainment', '/wiki/Movies_Anywhere', '/wiki/Disney_Parks,_Experiences_and_Products', '/wiki/Disneyland_Resort', '/wiki/Disneyland_Paris', '/wiki/Hong_Kong_Disneyland_Resort', '/wiki/Shanghai_Disney_Resort', '/wiki/Walt_Disney_Attractions_Japan', '/wiki/Walt_Disney_World', '/wiki/Walt_Disney_Imagineering', '/wiki/Adventures_by_Disney', '/wiki/National_Geographic_Partners', '/wiki/Disney_Cruise_Line', '/wiki/Disney_Vacation_Club', '/wiki/Disney_Consumer_Products', '/wiki/Disney_Store', '/wiki/Disney_Publishing_Worldwide', '/wiki/Disney_English', '/wiki/National_Geographic_Partners#NG_Media', '/wiki/Disney.com', '/wiki/Disney_Interactive', '/wiki/The_Muppets_Studio', '/wiki/Walt_Disney_Direct-to-Consumer_%26_International', '/wiki/Disney_Channels_Worldwide', '/wiki/Fox_Networks_Group', '/wiki/ESPN_International', '/wiki/Disney_Digital_Network', '/wiki/Disney_Streaming_Services', '/wiki/Disney%2B', '/wiki/ESPN%2B', '/wiki/Hulu', '/wiki/Endemol_Shine_Group', '/wiki/The_Walt_Disney_Company_India', '/wiki/Star_India', '/wiki/Hotstar', '/wiki/Tata_Sky', '/wiki/UTV_Software_Communications', '/wiki/The_Walt_Disney_Company_France', '/wiki/Super_RTL', '/wiki/RTL_II', '/wiki/The_Walt_Disney_Company_Italy', '/wiki/The_Walt_Disney_Company_Latin_America', '/wiki/Patagonik_Film_Group', '/wiki/Rede_Telecine', '/wiki/List_of_assets_owned_by_The_Walt_Disney_Company', '/wiki/Buena_Vista_(brand)', '/wiki/D23_(Disney)', '/wiki/DisneyNow', '/wiki/Disney_Institute', '/wiki/Disney_University', '/wiki/Marvel_Entertainment', '/wiki/National_Geographic_Partners', '/wiki/Reedy_Creek_Energy_Services', '/wiki/TrueX', '/wiki/Walt_Disney_Studios_(Burbank)', '/wiki/Grand_Central_Airport_(California)', '/wiki/21st_Century_Fox', '/wiki/Retlaw_Enterprises', '/wiki/Acquisition_of_21st_Century_Fox_by_Disney', '/wiki/Template:Disneyland_Resort', '/wiki/Template_talk:Disneyland_Resort', 'https://en.wikipedia.org/w/index.php?title=Template:Disneyland_Resort&action=edit', '/wiki/Disneyland_Resort', '/wiki/Disneyland', '/wiki/List_of_Disneyland_attractions', '/wiki/List_of_former_Disneyland_attractions', '/wiki/Disney_California_Adventure', '/wiki/List_of_Disney_California_Adventure_attractions', '/wiki/List_of_former_Disney_California_Adventure_attractions', '/wiki/Disneyland_Hotel_(California)', '/wiki/Disney%27s_Paradise_Pier_Hotel', '/wiki/Disney%27s_Grand_Californian_Hotel_%26_Spa', '/wiki/Downtown_Disney', '/wiki/World_of_Disney', '/wiki/Trader_Sam%27s_Enchanted_Tiki_Bar', '/wiki/Napa_Rose', '/wiki/Disneyland_Monorail_System', '/wiki/Team_Disney', '/wiki/Corey_Burton', '/wiki/Claude_Coats', '/wiki/Marc_Davis_(animator)', '/wiki/Roy_O._Disney', '/wiki/Ron_Dominguez', '/wiki/Greg_Emmer', '/wiki/Joe_Fowler', '/wiki/Paul_Frees', '/wiki/Ed_Grier', '/wiki/Cynthia_Harriss', '/wiki/Art_Linkletter', '/wiki/Jack_Lindquist', '/wiki/Michael_Eisner', '/wiki/Matt_Ouimet', '/wiki/Paul_Pressler', '/wiki/Thurl_Ravenscroft', '/wiki/Herbert_Ryman', '/wiki/Jack_Wagner_(announcer)', '/wiki/Jack_Wrather', '/wiki/Tony_Baxter', '/wiki/Marty_Sklar', '/wiki/Happiest_Homecoming_on_Earth', '/wiki/Magic_Music_Days', '/wiki/Disney%27s_Fairy_Tale_Weddings_%26_Honeymoons', '/wiki/Incidents_at_Disneyland_Resort', '/wiki/E_ticket', '/wiki/FastPass', '/wiki/Disney_PhotoPass', '/wiki/Disneyland,_Inc.', '/wiki/SRI_International', '/wiki/Partners_Federal_Credit_Union', '/wiki/Voluntears', '/wiki/Walt_Disney_Imagineering', '/wiki/Walt_Disney_Creative_Entertainment', '/wiki/Anaheim,_California', '/wiki/Anaheim_Rapid_Connection', '/wiki/Anaheim_Resort', '/wiki/Anaheim_Resort_Transportation', '/wiki/Disney_utilidor_system', '/wiki/Walt_Disney_Parks_and_Resorts', '/wiki/The_Walt_Disney_Company', '/wiki/Portal:Contents/Portals', '/wiki/File:Animation_disc.svg', '/wiki/Portal:Animation', '/wiki/File:P_vip.svg', '/wiki/Portal:Biography', '/wiki/File:Magic_Kingdom_castle.jpg', '/wiki/Portal:Disney', '/wiki/File:Video-x-generic.svg', '/wiki/Portal:Film', '/wiki/File:Flag_of_Los_Angeles_County,_California.svg', '/wiki/Portal:Greater_Los_Angeles', '/wiki/File:Blank_television_set.svg', '/wiki/Portal:Television', '/wiki/File:Flag_of_the_United_States.svg', '/wiki/Portal:United_States', '/wiki/Wikipedia:Wikimedia_sister_projects', 'https://commons.wikimedia.org/wiki/Special:Search/Walt_Disney', 'https://en.wikiquote.org/wiki/Special:Search/Walt_Disney', 'https://www.wikidata.org/wiki/Special:Search/Walt_Disney', '/wiki/Help:Authority_control', 'https://www.wikidata.org/wiki/Q8704', '/wiki/Auckland_Art_Gallery_Toi_o_T%C4%81maki', 'https://www.aucklandartgallery.com/explore-art-and-ideas/artist/305/', '/wiki/Bibsys', 'https://authority.bibsys.no/authority/rest/authorities/html/90057066', '/wiki/Biblioteca_Nacional_de_Espa%C3%B1a', 'http://catalogo.bne.es/uhtbin/authoritybrowse.cgi?action=display&authority_id=XX1163376', '/wiki/BNF_(identifier)', 'https://catalogue.bnf.fr/ark:/12148/cb11994688k', 'https://data.bnf.fr/ark:/12148/cb11994688k', '/wiki/Name_and_Title_Authority_File_of_Catalonia', 'http://cantic.bnc.cat/registres/CUCId/a11231014', '/wiki/CiNii_(identifier)', 'https://ci.nii.ac.jp/author/DA09601826?l=en', '/wiki/GND_(identifier)', 'https://d-nb.info/gnd/118526006', '/wiki/ISNI_(identifier)', 'http://isni.org/isni/0000000121280724', '/wiki/LCCN_(identifier)', 'https://id.loc.gov/authorities/names/n78095660', '/wiki/MusicBrainz', 'https://musicbrainz.org/artist/560416d7-c8f8-4a1b-b555-ef2b93528fb5', '/wiki/National_Archives_and_Records_Administration', 'https://catalog.archives.gov/id/10580368', '/wiki/National_Diet_Library', 'https://id.ndl.go.jp/auth/ndlna/00437974', '/wiki/National_Library_of_the_Czech_Republic', 'https://aleph.nkp.cz/F/?func=find-c&local_base=aut&ccl_term=ica=jn19990001791&CON_LNG=ENG', '/wiki/National_Library_of_Australia', 'https://nla.gov.au/anbd.aut-an35037590', '/wiki/National_Library_of_Israel', 'http://uli.nli.org.il/F/?func=direct&doc_number=000039797&local_base=nlx10', '/wiki/National_Library_of_Korea', 'https://nl.go.kr/authorities/resource/KAC199607178', '/wiki/National_Library_of_Romania', 'http://alephnew.bibnat.ro:8991/F?func=find-b&request=000066276&find_code=SYS&adjacent=Y&local_base=NLR10', '/wiki/Royal_Library_of_the_Netherlands', 'http://data.bibliotheken.nl/id/thes/p182955389', 'https://www.wikidata.org/wiki/Q23892012', 'https://pic.nypl.org/constituents/308398', '/wiki/Netherlands_Institute_for_Art_History#Online_artist_pages', 'https://rkd.nl/en/explore/artists/23298', '/wiki/SELIBR_(identifier)', 'https://libris.kb.se/auth/273638', '/wiki/SNAC', 'https://snaccooperative.org/ark:/99166/w6b85pv2', '/wiki/SUDOC_(identifier)', 'https://www.idref.fr/028028945', '/wiki/Trove', 'https://trove.nla.gov.au/people/808425', '/wiki/Union_List_of_Artist_Names', 'https://www.getty.edu/vow/ULANFullDisplay?find=&role=&nation=&subjectid=500025598', '/wiki/VIAF_(identifier)', 'https://viaf.org/viaf/36927108', '/wiki/WorldCat_Identities', 'https://www.worldcat.org/identities/lccn-n78095660', 'https://en.wikipedia.org/w/index.php?title=Walt_Disney&oldid=963831626', '/wiki/Help:Category', '/wiki/Category:Walt_Disney', '/wiki/Category:1901_births', '/wiki/Category:1966_deaths', '/wiki/Category:20th-century_American_artists', '/wiki/Category:20th-century_American_businesspeople', '/wiki/Category:20th-century_American_male_actors', '/wiki/Category:20th-century_American_writers', '/wiki/Category:Academy_Honorary_Award_recipients', '/wiki/Category:American_animated_film_producers', '/wiki/Category:American_anti-communists', '/wiki/Category:American_anti-fascists', '/wiki/Category:American_cartoonists', '/wiki/Category:American_company_founders', '/wiki/Category:Film_producers_from_Missouri', '/wiki/Category:American_film_studio_executives', '/wiki/Category:American_film_production_company_founders', '/wiki/Category:American_male_screenwriters', '/wiki/Category:American_male_voice_actors', '/wiki/Category:American_mass_media_owners', '/wiki/Category:American_people_of_Canadian_descent', '/wiki/Category:American_people_of_English_descent', '/wiki/Category:American_people_of_German_descent', '/wiki/Category:American_people_of_Irish_descent', '/wiki/Category:American_Red_Cross_personnel', '/wiki/Category:Philanthropists_from_Illinois', '/wiki/Category:American_television_hosts', '/wiki/Category:Amusement_park_owners', '/wiki/Category:Animators_from_Illinois', '/wiki/Category:Animators_from_Missouri', '/wiki/Category:Artists_from_Chicago', '/wiki/Category:Burials_at_Forest_Lawn_Memorial_Park_(Glendale)', '/wiki/Category:Deaths_from_cancer_in_California', '/wiki/Category:Cecil_B._DeMille_Award_Golden_Globe_winners', '/wiki/Category:C%C3%A9sar_Honorary_Award_recipients', '/wiki/Category:Chairmen_of_Disney', '/wiki/Category:Congressional_Gold_Medal_recipients', '/wiki/Category:Deaths_from_lung_cancer', '/wiki/Category:Disney_family', '/wiki/Category:Disney_executives', '/wiki/Category:Film_directors_from_Missouri', '/wiki/Category:History_of_animation', '/wiki/Category:Kansas_City_Art_Institute_alumni', '/wiki/Category:Male_actors_from_Missouri', '/wiki/Category:People_from_Marceline,_Missouri', '/wiki/Category:Presidential_Medal_of_Freedom_recipients', '/wiki/Category:Primetime_Emmy_Award_winners', '/wiki/Category:Producers_of_Best_Documentary_Short_Subject_Academy_Award_winners', '/wiki/Category:Producers_of_Live_Action_Short_Film_Academy_Award_winners', '/wiki/Category:Recipients_of_the_Irving_G._Thalberg_Memorial_Award', '/wiki/Category:School_of_the_Art_Institute_of_Chicago_alumni', '/wiki/Category:Writers_from_Chicago', '/wiki/Category:Writers_from_Missouri', '/wiki/Category:Screenwriters_from_Illinois', '/wiki/Category:Recipients_of_the_Silver_Buffalo_Award', '/wiki/Category:People_from_Holmby_Hills,_Los_Angeles', '/wiki/Category:Disease-related_deaths_in_California', '/wiki/Category:Officers_Crosses_of_the_Order_of_Merit_of_the_Federal_Republic_of_Germany', '/wiki/Category:Chevaliers_of_the_L%C3%A9gion_d%27honneur', '/wiki/Category:Producers_of_Best_Animated_Short_Academy_Award_winners', '/wiki/Category:20th-century_American_male_writers', '/wiki/Category:Pages_containing_links_to_subscription-only_content', '/wiki/Category:Wikipedia_extended-confirmed-protected_pages', '/wiki/Category:Wikipedia_indefinitely_move-protected_pages', '/wiki/Category:Articles_with_short_description', '/wiki/Category:Featured_articles', '/wiki/Category:Use_mdy_dates_from_April_2017', '/wiki/Category:Use_American_English_from_May_2016', '/wiki/Category:All_Wikipedia_articles_written_in_American_English', '/wiki/Category:Biography_with_signature', '/wiki/Category:Articles_with_hCards', '/wiki/Category:Articles_containing_German-language_text', '/wiki/Category:Articles_containing_French-language_text', '/wiki/Category:Articles_containing_Spanish-language_text', '/wiki/Category:CS1_maint:_ref%3Dharv', '/wiki/Category:Articles_using_Template:The_Interviews_people', '/wiki/Category:Wikipedia_articles_with_AAG_identifiers', '/wiki/Category:Wikipedia_articles_with_BIBSYS_identifiers', '/wiki/Category:Wikipedia_articles_with_BNE_identifiers', '/wiki/Category:Wikipedia_articles_with_BNF_identifiers', '/wiki/Category:Wikipedia_articles_with_CANTIC_identifiers', '/wiki/Category:Wikipedia_articles_with_CINII_identifiers', '/wiki/Category:Wikipedia_articles_with_GND_identifiers', '/wiki/Category:Wikipedia_articles_with_ISNI_identifiers', '/wiki/Category:Wikipedia_articles_with_LCCN_identifiers', '/wiki/Category:Wikipedia_articles_with_MusicBrainz_identifiers', '/wiki/Category:Wikipedia_articles_with_NARA_identifiers', '/wiki/Category:Wikipedia_articles_with_NDL_identifiers', '/wiki/Category:Wikipedia_articles_with_NKC_identifiers', '/wiki/Category:Wikipedia_articles_with_NLA_identifiers', '/wiki/Category:Wikipedia_articles_with_NLI_identifiers', '/wiki/Category:Wikipedia_articles_with_NLK_identifiers', '/wiki/Category:Wikipedia_articles_with_NLR_identifiers', '/wiki/Category:Wikipedia_articles_with_NTA_identifiers', '/wiki/Category:Wikipedia_articles_with_PIC_identifiers', '/wiki/Category:Wikipedia_articles_with_RKDartists_identifiers', '/wiki/Category:Wikipedia_articles_with_SELIBR_identifiers', '/wiki/Category:Wikipedia_articles_with_SNAC-ID_identifiers', '/wiki/Category:Wikipedia_articles_with_SUDOC_identifiers', '/wiki/Category:Wikipedia_articles_with_Trove_identifiers', '/wiki/Category:Wikipedia_articles_with_ULAN_identifiers', '/wiki/Category:Wikipedia_articles_with_VIAF_identifiers', '/wiki/Category:Wikipedia_articles_with_WorldCat_identifiers', '/wiki/Category:AC_with_26_elements', '/wiki/Category:Articles_containing_video_clips', '/wiki/Special:MyTalk', '/wiki/Special:MyContributions', '/w/index.php?title=Special:CreateAccount&returnto=Walt+Disney', '/w/index.php?title=Special:UserLogin&returnto=Walt+Disney', '/wiki/Walt_Disney', '/wiki/Talk:Walt_Disney', '/wiki/Walt_Disney', '/w/index.php?title=Walt_Disney&action=edit', '/w/index.php?title=Walt_Disney&action=history', '/wiki/Main_Page', '/wiki/Main_Page', '/wiki/Wikipedia:Contents', '/wiki/Portal:Current_events', '/wiki/Special:Random', '/wiki/Wikipedia:About', '//en.wikipedia.org/wiki/Wikipedia:Contact_us', 'https://donate.wikimedia.org/wiki/Special:FundraiserRedirector?utm_source=donate&utm_medium=sidebar&utm_campaign=C13_en.wikipedia.org&uselang=en', '//shop.wikimedia.org', '/wiki/Help:Contents', '/wiki/Wikipedia:Community_portal', '/wiki/Special:RecentChanges', '/wiki/Wikipedia:File_Upload_Wizard', '/wiki/Special:WhatLinksHere/Walt_Disney', '/wiki/Special:RecentChangesLinked/Walt_Disney', '/wiki/Wikipedia:File_Upload_Wizard', '/wiki/Special:SpecialPages', '/w/index.php?title=Walt_Disney&oldid=963831626', '/w/index.php?title=Walt_Disney&action=info', 'https://www.wikidata.org/wiki/Special:EntityPage/Q8704', '/w/index.php?title=Special:CiteThisPage&page=Walt_Disney&id=963831626&wpFormIdentifier=titleform', 'https://kbd.wikipedia.org/wiki/%D0%A3%D0%BE%D0%BB%D1%82_%D0%94%D0%B8%D1%81%D0%BD%D0%B5%D0%B9', 'https://af.wikipedia.org/wiki/Walt_Disney', 'https://als.wikipedia.org/wiki/Walt_Disney', 'https://am.wikipedia.org/wiki/%E1%8B%8E%E1%88%8D%E1%89%B5_%E1%8B%B2%E1%8B%9D%E1%8A%92', 'https://ar.wikipedia.org/wiki/%D9%88%D8%A7%D9%84%D8%AA_%D8%AF%D9%8A%D8%B2%D9%86%D9%8A', 'https://an.wikipedia.org/wiki/Walt_Disney', 'https://as.wikipedia.org/wiki/%E0%A7%B1%E0%A6%BE%E0%A6%B2%E0%A7%8D%E0%A6%9F_%E0%A6%A1%E0%A6%BF%E0%A6%9C%E0%A6%A8%E0%A7%80', 'https://ast.wikipedia.org/wiki/Walt_Disney', 'https://az.wikipedia.org/wiki/Uolt_Disney', 'https://bn.wikipedia.org/wiki/%E0%A6%93%E0%A6%AF%E0%A6%BC%E0%A6%BE%E0%A6%B2%E0%A7%8D%E0%A6%9F_%E0%A6%A1%E0%A6%BF%E0%A6%9C%E0%A6%A8%E0%A6%BF', 'https://zh-min-nan.wikipedia.org/wiki/Walt_Disney', 'https://ba.wikipedia.org/wiki/%D0%A3%D0%BE%D0%BB%D1%82_%D0%94%D0%B8%D1%81%D0%BD%D0%B5%D0%B9', 'https://be.wikipedia.org/wiki/%D0%A3%D0%BE%D0%BB%D1%82_%D0%94%D1%8B%D1%81%D0%BD%D0%B5%D0%B9', 'https://be-tarask.wikipedia.org/wiki/%D0%8E%D0%BE%D0%BB%D1%82_%D0%94%D1%8B%D1%81%D0%BD%D1%8D%D0%B9', 'https://bh.wikipedia.org/wiki/%E0%A4%B5%E0%A4%BE%E0%A4%B2%E0%A5%8D%E0%A4%9F_%E0%A4%A1%E0%A4%BF%E0%A4%9C%E0%A5%8D%E0%A4%A8%E0%A5%80', 'https://bcl.wikipedia.org/wiki/Walt_Disney', 'https://bi.wikipedia.org/wiki/Walt_Disney', 'https://bg.wikipedia.org/wiki/%D0%A3%D0%BE%D0%BB%D1%82_%D0%94%D0%B8%D1%81%D0%BD%D0%B8', 'https://bar.wikipedia.org/wiki/Walt_Disney', 'https://bs.wikipedia.org/wiki/Walt_Disney', 'https://br.wikipedia.org/wiki/Walt_Disney', 'https://bxr.wikipedia.org/wiki/%D0%A3%D0%BE%D0%BB%D1%82_%D0%94%D0%B8%D1%81%D0%BD%D0%B5%D0%B9', 'https://ca.wikipedia.org/wiki/Walt_Disney', 'https://ceb.wikipedia.org/wiki/Walt_Disney', 'https://cs.wikipedia.org/wiki/Walt_Disney', 'https://co.wikipedia.org/wiki/Walt_Disney', 'https://cy.wikipedia.org/wiki/Walt_Disney', 'https://da.wikipedia.org/wiki/Walt_Disney', 'https://se.wikipedia.org/wiki/Walt_Disney', 'https://pdc.wikipedia.org/wiki/Walt_Disney', 'https://de.wikipedia.org/wiki/Walt_Disney', 'https://dsb.wikipedia.org/wiki/Walt_Disney', 'https://et.wikipedia.org/wiki/Walt_Disney', 'https://el.wikipedia.org/wiki/%CE%93%CE%BF%CF%85%CF%8E%CE%BB%CF%84_%CE%9D%CF%84%CE%AF%CF%83%CE%BD%CE%B5%CF%8B', 'https://es.wikipedia.org/wiki/Walt_Disney', 'https://eo.wikipedia.org/wiki/Walt_Disney', 'https://ext.wikipedia.org/wiki/Walt_Disney', 'https://eu.wikipedia.org/wiki/Walt_Disney', 'https://fa.wikipedia.org/wiki/%D9%88%D8%A7%D9%84%D8%AA_%D8%AF%DB%8C%D8%B2%D9%86%DB%8C', 'https://hif.wikipedia.org/wiki/Walt_Disney', 'https://fo.wikipedia.org/wiki/Walt_Disney', 'https://fr.wikipedia.org/wiki/Walt_Disney', 'https://fy.wikipedia.org/wiki/Walt_Disney', 'https://ga.wikipedia.org/wiki/Walt_Disney', 'https://gl.wikipedia.org/wiki/Walt_Disney', 'https://got.wikipedia.org/wiki/%F0%90%8D%85%F0%90%8C%B0%F0%90%8C%BB%F0%90%8D%84_%F0%90%8C%B3%F0%90%8C%B9%F0%90%8D%83%F0%90%8C%BD%F0%90%8C%B4%F0%90%8C%B9', 'https://gom.wikipedia.org/wiki/Walt_Disney', 'https://ko.wikipedia.org/wiki/%EC%9B%94%ED%8A%B8_%EB%94%94%EC%A6%88%EB%8B%88', 'https://haw.wikipedia.org/wiki/Walt_Disney', 'https://hy.wikipedia.org/wiki/%D5%88%D6%82%D5%B8%D5%AC%D5%A9_%D4%B4%D5%AB%D5%BD%D5%B6%D5%A5%D5%B5', 'https://hi.wikipedia.org/wiki/%E0%A4%B5%E0%A5%89%E0%A4%B2%E0%A5%8D%E0%A4%9F_%E0%A4%A1%E0%A4%BF%E0%A4%9C%E0%A4%BC%E0%A5%8D%E0%A4%A8%E0%A5%80', 'https://hsb.wikipedia.org/wiki/Walt_Disney', 'https://hr.wikipedia.org/wiki/Walt_Disney', 'https://gor.wikipedia.org/wiki/Walt_Disney', 'https://io.wikipedia.org/wiki/Walt_Disney', 'https://ilo.wikipedia.org/wiki/Walt_Disney', 'https://id.wikipedia.org/wiki/Walt_Disney', 'https://ia.wikipedia.org/wiki/Walt_Disney', 'https://os.wikipedia.org/wiki/%D0%94%D0%B8%D1%81%D0%BD%D0%B5%D0%B9,_%D0%A3%D0%BE%D0%BB%D1%82', 'https://is.wikipedia.org/wiki/Walt_Disney', 'https://it.wikipedia.org/wiki/Walt_Disney', 'https://he.wikipedia.org/wiki/%D7%95%D7%95%D7%9C%D7%98_%D7%93%D7%99%D7%A1%D7%A0%D7%99', 'https://jv.wikipedia.org/wiki/Walt_Disney', 'https://kbp.wikipedia.org/wiki/Walt_Disney', 'https://kn.wikipedia.org/wiki/%E0%B2%B5%E0%B2%BE%E0%B2%B2%E0%B3%8D%E0%B2%9F%E0%B3%8D_%E0%B2%A1%E0%B2%BF%E0%B2%B8%E0%B3%8D%E0%B2%A8%E0%B2%BF', 'https://ka.wikipedia.org/wiki/%E1%83%A3%E1%83%9D%E1%83%9A%E1%83%A2_%E1%83%93%E1%83%98%E1%83%A1%E1%83%9C%E1%83%94%E1%83%98', 'https://kk.wikipedia.org/wiki/%D0%A3%D0%BE%D0%BB%D1%82_%D0%94%D0%B8%D1%81%D0%BD%D0%B5%D0%B9', 'https://sw.wikipedia.org/wiki/Walt_Disney', 'https://ht.wikipedia.org/wiki/Walt_Disney', 'https://gcr.wikipedia.org/wiki/Walt_Disney', 'https://ku.wikipedia.org/wiki/Walt_Disney', 'https://ky.wikipedia.org/wiki/%D0%A3%D0%BE%D0%BB%D1%82_%D0%94%D0%B8%D1%81%D0%BD%D0%B5%D0%B9', 'https://la.wikipedia.org/wiki/Gualterus_Disney', 'https://lv.wikipedia.org/wiki/Volts_Disnejs', 'https://lb.wikipedia.org/wiki/Walt_Disney', 'https://lt.wikipedia.org/wiki/Walt_Disney', 'https://lij.wikipedia.org/wiki/Walt_Disney', 'https://li.wikipedia.org/wiki/Walt_Disney', 'https://olo.wikipedia.org/wiki/Walt_Disney', 'https://hu.wikipedia.org/wiki/Walt_Disney', 'https://mai.wikipedia.org/wiki/%E0%A4%B5%E0%A4%BE%E0%A4%B2%E0%A5%8D%E0%A4%9F_%E0%A4%A1%E0%A4%BF%E0%A4%9C%E0%A5%8D%E0%A4%A8%E0%A5%80', 'https://mk.wikipedia.org/wiki/%D0%92%D0%BE%D0%BB%D1%82_%D0%94%D0%B8%D0%B7%D0%BD%D0%B8', 'https://mg.wikipedia.org/wiki/Walt_Disney', 'https://ml.wikipedia.org/wiki/%E0%B4%B5%E0%B4%BE%E0%B5%BE%E0%B4%9F%E0%B5%8D%E0%B4%9F%E0%B5%8D_%E0%B4%A1%E0%B4%BF%E0%B4%B8%E0%B5%8D%E0%B4%A8%E0%B4%BF', 'https://mr.wikipedia.org/wiki/%E0%A4%B5%E0%A5%89%E0%A4%B2%E0%A5%8D%E0%A4%9F_%E0%A4%A1%E0%A4%BF%E0%A4%B8%E0%A5%8D%E0%A4%A8%E0%A5%87', 'https://xmf.wikipedia.org/wiki/%E1%83%A3%E1%83%9D%E1%83%9A%E1%83%A2_%E1%83%93%E1%83%98%E1%83%A1%E1%83%9C%E1%83%94%E1%83%98', 'https://arz.wikipedia.org/wiki/%D9%88%D8%A7%D9%84%D8%AA_%D8%AF%D9%8A%D8%B2%D9%86%D9%89', 'https://ms.wikipedia.org/wiki/Walt_Disney', 'https://min.wikipedia.org/wiki/Walt_Disney', 'https://mn.wikipedia.org/wiki/%D0%A3%D0%BE%D0%BB%D1%82_%D0%94%D0%B8%D1%81%D0%BD%D0%B5%D0%B9', 'https://my.wikipedia.org/wiki/%E1%80%9D%E1%80%B1%E1%80%AB%E1%80%B7%E1%80%9C%E1%80%BA%E1%80%92%E1%80%85%E1%80%B9%E1%80%85%E1%80%94%E1%80%AE', 'https://nah.wikipedia.org/wiki/Walt_Disney', 'https://nl.wikipedia.org/wiki/Walt_Disney', 'https://ne.wikipedia.org/wiki/%E0%A4%B5%E0%A4%BE%E0%A4%B2%E0%A5%8D%E0%A4%9F_%E0%A4%A1%E0%A4%BF%E0%A4%9C%E0%A5%8D%E0%A4%A8%E0%A5%80', 'https://new.wikipedia.org/wiki/%E0%A4%B5%E0%A4%BE%E0%A4%B2%E0%A5%8D%E0%A4%9F_%E0%A4%A1%E0%A4%BF%E0%A4%9C%E0%A5%8D%E0%A4%A8%E0%A5%80', 'https://ja.wikipedia.org/wiki/%E3%82%A6%E3%82%A9%E3%83%AB%E3%83%88%E3%83%BB%E3%83%87%E3%82%A3%E3%82%BA%E3%83%8B%E3%83%BC', 'https://ce.wikipedia.org/wiki/%D0%94%D0%B8%D1%81%D0%BD%D0%B5%D0%B9,_%D0%A3%D0%BE%D0%BB%D1%82', 'https://no.wikipedia.org/wiki/Walt_Disney', 'https://nn.wikipedia.org/wiki/Walt_Disney', 'https://oc.wikipedia.org/wiki/Walt_Disney', 'https://uz.wikipedia.org/wiki/Walt_Disney', 'https://pa.wikipedia.org/wiki/%E0%A8%B5%E0%A8%BE%E0%A8%B2%E0%A8%9F_%E0%A8%A1%E0%A8%BF%E0%A8%9C%E0%A8%BC%E0%A8%A8%E0%A9%80', 'https://pnb.wikipedia.org/wiki/%D9%88%D8%A7%D9%84%D9%B9_%DA%88%D8%B2%D9%86%DB%8C', 'https://pms.wikipedia.org/wiki/Walt_Disney', 'https://nds.wikipedia.org/wiki/Walt_Disney', 'https://pl.wikipedia.org/wiki/Walt_Disney', 'https://pt.wikipedia.org/wiki/Walt_Disney', 'https://ro.wikipedia.org/wiki/Walt_Disney', 'https://qu.wikipedia.org/wiki/Walt_Disney', 'https://rue.wikipedia.org/wiki/%D0%A3%D0%BE%D0%BB%D1%82_%D0%94%D1%96%D1%81%D0%BD%D0%B5%D0%B9', 'https://ru.wikipedia.org/wiki/%D0%94%D0%B8%D1%81%D0%BD%D0%B5%D0%B9,_%D0%A3%D0%BE%D0%BB%D1%82', 'https://sah.wikipedia.org/wiki/%D0%A3%D0%BE%D0%BB%D1%82_%D0%94%D0%B8%D1%81%D0%BD%D0%B5%D0%B9', 'https://sa.wikipedia.org/wiki/%E0%A4%B5%E0%A4%BE%E0%A4%B2%E0%A5%8D%E0%A4%9F_%E0%A4%A1%E0%A4%BF%E0%A4%9C%E0%A5%8D%E0%A4%A8%E0%A5%80', 'https://sat.wikipedia.org/wiki/%E1%B1%A3%E1%B1%9F%E1%B1%9E%E1%B1%B4_%E1%B1%B0%E1%B1%A4%E1%B1%A5%E1%B1%B1%E1%B1%A4', 'https://sc.wikipedia.org/wiki/Walt_Disney', 'https://sco.wikipedia.org/wiki/Walt_Disney', 'https://sq.wikipedia.org/wiki/Walt_Disney', 'https://scn.wikipedia.org/wiki/Walt_Disney', 'https://simple.wikipedia.org/wiki/Walt_Disney', 'https://sk.wikipedia.org/wiki/Walt_Disney', 'https://sl.wikipedia.org/wiki/Walt_Disney', 'https://szl.wikipedia.org/wiki/Walt_Disney', 'https://ckb.wikipedia.org/wiki/%D9%88%D8%A7%DA%B5%D8%AA_%D8%AF%DB%8C%D8%B2%D9%86%DB%8C', 'https://sr.wikipedia.org/wiki/%D0%92%D0%BE%D0%BB%D1%82_%D0%94%D0%B8%D0%B7%D0%BD%D0%B8', 'https://sh.wikipedia.org/wiki/Walt_Disney', 'https://su.wikipedia.org/wiki/Walt_Disney', 'https://fi.wikipedia.org/wiki/Walt_Disney', 'https://sv.wikipedia.org/wiki/Walt_Disney', 'https://tl.wikipedia.org/wiki/Walt_Disney', 'https://ta.wikipedia.org/wiki/%E0%AE%B5%E0%AE%BE%E0%AE%B2%E0%AF%8D%E0%AE%9F%E0%AF%8D_%E0%AE%9F%E0%AE%BF%E0%AE%B8%E0%AF%8D%E0%AE%A9%E0%AE%BF', 'https://tt.wikipedia.org/wiki/%D0%A3%D0%BE%D0%BB%D1%82_%D0%94%D0%B8%D1%81%D0%BD%D0%B5%D0%B9', 'https://te.wikipedia.org/wiki/%E0%B0%B5%E0%B0%BE%E0%B0%B2%E0%B1%8D%E0%B0%9F%E0%B1%8D_%E0%B0%A1%E0%B0%BF%E0%B0%B8%E0%B1%8D%E0%B0%A8%E0%B1%80', 'https://th.wikipedia.org/wiki/%E0%B8%A7%E0%B8%AD%E0%B8%A5%E0%B8%95%E0%B9%8C_%E0%B8%94%E0%B8%B4%E0%B8%AA%E0%B8%99%E0%B8%B5%E0%B8%A2%E0%B9%8C', 'https://tg.wikipedia.org/wiki/%D0%A3%D0%BE%D0%BB%D1%82_%D0%94%D0%B8%D1%81%D0%BD%D0%B5%D0%B9', 'https://tr.wikipedia.org/wiki/Walt_Disney', 'https://uk.wikipedia.org/wiki/%D0%92%D0%BE%D0%BB%D1%82_%D0%94%D1%96%D1%81%D0%BD%D0%B5%D0%B9', 'https://ur.wikipedia.org/wiki/%D9%88%D8%A7%D9%84%D9%B9_%DA%88%D8%B2%D9%86%DB%8C', 'https://vec.wikipedia.org/wiki/Walt_Disney', 'https://vep.wikipedia.org/wiki/Disnei_Uolt', 'https://vi.wikipedia.org/wiki/Walt_Disney', 'https://vo.wikipedia.org/wiki/Walt_Disney', 'https://wa.wikipedia.org/wiki/Walt_Disney', 'https://war.wikipedia.org/wiki/Walt_Disney', 'https://wuu.wikipedia.org/wiki/%E5%8D%8E%E8%84%B1%C2%B7%E8%BF%AA%E5%A3%AB%E5%B0%BC', 'https://yi.wikipedia.org/wiki/%D7%95%D7%95%D7%90%D7%9C%D7%98_%D7%93%D7%99%D7%96%D7%A0%D7%99', 'https://yo.wikipedia.org/wiki/Walt_Disney', 'https://zh-yue.wikipedia.org/wiki/%E5%92%8C%E8%B7%AF%E8%BF%AA%E5%A3%AB%E5%B0%BC', 'https://bat-smg.wikipedia.org/wiki/Volts_D%C4%97sniejos', 'https://zh.wikipedia.org/wiki/%E8%8F%AF%E7%89%B9%C2%B7%E8%BF%AA%E5%A3%AB%E5%B0%BC', 'https://www.wikidata.org/wiki/Special:EntityPage/Q8704#sitelinks-wikipedia', 'https://commons.wikimedia.org/wiki/Category:Walt_Disney', 'https://en.wikiquote.org/wiki/Walt_Disney', '/w/index.php?title=Special:ElectronPdf&page=Walt+Disney&action=show-download-screen', '/w/index.php?title=Walt_Disney&printable=yes', '//en.wikipedia.org/wiki/Wikipedia:Text_of_Creative_Commons_Attribution-ShareAlike_3.0_Unported_License', '//creativecommons.org/licenses/by-sa/3.0/', '//foundation.wikimedia.org/wiki/Terms_of_Use', '//foundation.wikimedia.org/wiki/Privacy_policy', '//www.wikimediafoundation.org/', 'https://foundation.wikimedia.org/wiki/Privacy_policy', '/wiki/Wikipedia:About', '/wiki/Wikipedia:General_disclaimer', '//en.wikipedia.org/wiki/Wikipedia:Contact_us', 'https://www.mediawiki.org/wiki/Special:MyLanguage/How_to_contribute', 'https://stats.wikimedia.org/#/en.wikipedia.org', 'https://foundation.wikimedia.org/wiki/Cookie_statement', '//en.m.wikipedia.org/w/index.php?title=Walt_Disney&mobileaction=toggle_view_mobile', 'https://wikimediafoundation.org/', 'https://www.mediawiki.org/']\n"
     ]
    }
   ],
   "source": [
    "links = []\n",
    "for tag in soup.find_all(href=True):\n",
    "    links.append(tag['href'])\n",
    "print(links)"
   ]
  },
  {
   "cell_type": "markdown",
   "metadata": {},
   "source": [
    "#### Find the number of titles that have changed in the United States Code since its last release point."
   ]
  },
  {
   "cell_type": "code",
   "execution_count": 60,
   "metadata": {},
   "outputs": [],
   "source": [
    "# This is the url you will scrape in this exercise\n",
    "url_titles = 'http://uscode.house.gov/download/download.shtml'"
   ]
  },
  {
   "cell_type": "code",
   "execution_count": 61,
   "metadata": {},
   "outputs": [],
   "source": [
    "# your code here\n",
    "titles_us = requests.get(url_titles)\n",
    "soup = BeautifulSoup(titles_us.text, 'html.parser')"
   ]
  },
  {
   "cell_type": "code",
   "execution_count": 64,
   "metadata": {},
   "outputs": [
    {
     "data": {
      "text/plain": [
       "1"
      ]
     },
     "execution_count": 64,
     "metadata": {},
     "output_type": "execute_result"
    }
   ],
   "source": [
    "titles_changed = 0\n",
    "for t in soup.select('.usctitlechanged'):\n",
    "    titles_changed +=1\n",
    "    \n",
    "titles_changed"
   ]
  },
  {
   "cell_type": "markdown",
   "metadata": {},
   "source": [
    "#### Find a Python list with the top ten FBI's Most Wanted names."
   ]
  },
  {
   "cell_type": "code",
   "execution_count": 69,
   "metadata": {},
   "outputs": [],
   "source": [
    "# This is the url you will scrape in this exercise\n",
    "url_fbi = 'https://www.fbi.gov/wanted/topten'"
   ]
  },
  {
   "cell_type": "code",
   "execution_count": 70,
   "metadata": {},
   "outputs": [],
   "source": [
    "# your code here\n",
    "fbi = requests.get(url_fbi)\n",
    "soup = BeautifulSoup(fbi.text, 'html.parser')"
   ]
  },
  {
   "cell_type": "code",
   "execution_count": 73,
   "metadata": {},
   "outputs": [
    {
     "data": {
      "text/plain": [
       "['Most Wanted',\n",
       " 'YASER ABDEL SAID',\n",
       " 'ALEXIS FLORES',\n",
       " 'EUGENE PALMER',\n",
       " 'SANTIAGO VILLALBA MEDEROS',\n",
       " 'RAFAEL CARO-QUINTERO',\n",
       " 'ROBERT WILLIAM FISHER',\n",
       " 'BHADRESHKUMAR CHETANBHAI PATEL',\n",
       " 'ALEJANDRO ROSALES CASTILLO',\n",
       " 'ARNOLDO JIMENEZ',\n",
       " 'JASON DEREK BROWN']"
      ]
     },
     "execution_count": 73,
     "metadata": {},
     "output_type": "execute_result"
    }
   ],
   "source": [
    "mostwanted_names = []\n",
    "for tag in soup.select('.title a'):\n",
    "    mostwanted_names.append(tag.text)\n",
    "    \n",
    "mostwanted_names"
   ]
  },
  {
   "cell_type": "markdown",
   "metadata": {},
   "source": [
    "####  Display the 20 latest earthquakes info (date, time, latitude, longitude and region name) by the EMSC as a pandas dataframe."
   ]
  },
  {
   "cell_type": "code",
   "execution_count": null,
   "metadata": {},
   "outputs": [],
   "source": [
    "# This is the url you will scrape in this exercise\n",
    "url = 'https://www.emsc-csem.org/Earthquake/'"
   ]
  },
  {
   "cell_type": "code",
   "execution_count": null,
   "metadata": {},
   "outputs": [],
   "source": [
    "# your code here"
   ]
  },
  {
   "cell_type": "markdown",
   "metadata": {},
   "source": [
    "#### Count the number of tweets by a given Twitter account.\n",
    "Ask the user for the handle (@handle) of a twitter account. You will need to include a ***try/except block*** for account names not found. \n",
    "<br>***Hint:*** the program should count the number of tweets for any provided account."
   ]
  },
  {
   "cell_type": "code",
   "execution_count": null,
   "metadata": {},
   "outputs": [],
   "source": [
    "# This is the url you will scrape in this exercise \n",
    "# You will need to add the account credentials to this url\n",
    "url = 'https://twitter.com/'"
   ]
  },
  {
   "cell_type": "code",
   "execution_count": null,
   "metadata": {},
   "outputs": [],
   "source": [
    "# your code here"
   ]
  },
  {
   "cell_type": "markdown",
   "metadata": {},
   "source": [
    "#### Number of followers of a given twitter account\n",
    "Ask the user for the handle (@handle) of a twitter account. You will need to include a ***try/except block*** for account names not found. \n",
    "<br>***Hint:*** the program should count the followers for any provided account."
   ]
  },
  {
   "cell_type": "code",
   "execution_count": null,
   "metadata": {},
   "outputs": [],
   "source": [
    "# This is the url you will scrape in this exercise \n",
    "# You will need to add the account credentials to this url\n",
    "url = 'https://twitter.com/'"
   ]
  },
  {
   "cell_type": "code",
   "execution_count": null,
   "metadata": {},
   "outputs": [],
   "source": [
    "# your code here"
   ]
  },
  {
   "cell_type": "markdown",
   "metadata": {},
   "source": [
    "#### List all language names and number of related articles in the order they appear in wikipedia.org."
   ]
  },
  {
   "cell_type": "code",
   "execution_count": null,
   "metadata": {},
   "outputs": [],
   "source": [
    "# This is the url you will scrape in this exercise\n",
    "url = 'https://www.wikipedia.org/'"
   ]
  },
  {
   "cell_type": "code",
   "execution_count": null,
   "metadata": {},
   "outputs": [],
   "source": [
    "# your code here"
   ]
  },
  {
   "cell_type": "markdown",
   "metadata": {},
   "source": [
    "#### A list with the different kind of datasets available in data.gov.uk."
   ]
  },
  {
   "cell_type": "code",
   "execution_count": null,
   "metadata": {},
   "outputs": [],
   "source": [
    "# This is the url you will scrape in this exercise\n",
    "url = 'https://data.gov.uk/'"
   ]
  },
  {
   "cell_type": "code",
   "execution_count": null,
   "metadata": {},
   "outputs": [],
   "source": [
    "# your code here"
   ]
  },
  {
   "cell_type": "markdown",
   "metadata": {},
   "source": [
    "#### Display the top 10 languages by number of native speakers stored in a pandas dataframe."
   ]
  },
  {
   "cell_type": "code",
   "execution_count": null,
   "metadata": {},
   "outputs": [],
   "source": [
    "# This is the url you will scrape in this exercise\n",
    "url = 'https://en.wikipedia.org/wiki/List_of_languages_by_number_of_native_speakers'"
   ]
  },
  {
   "cell_type": "code",
   "execution_count": null,
   "metadata": {},
   "outputs": [],
   "source": [
    "# your code here"
   ]
  },
  {
   "cell_type": "markdown",
   "metadata": {},
   "source": [
    "## Bonus\n",
    "#### Scrape a certain number of tweets of a given Twitter account."
   ]
  },
  {
   "cell_type": "code",
   "execution_count": null,
   "metadata": {},
   "outputs": [],
   "source": [
    "# This is the url you will scrape in this exercise \n",
    "# You will need to add the account credentials to this url\n",
    "url = 'https://twitter.com/'"
   ]
  },
  {
   "cell_type": "code",
   "execution_count": null,
   "metadata": {},
   "outputs": [],
   "source": [
    "# your code here"
   ]
  },
  {
   "cell_type": "markdown",
   "metadata": {},
   "source": [
    "#### Display IMDB's top 250 data (movie name, initial release, director name and stars) as a pandas dataframe."
   ]
  },
  {
   "cell_type": "code",
   "execution_count": null,
   "metadata": {},
   "outputs": [],
   "source": [
    "# This is the url you will scrape in this exercise \n",
    "url = 'https://www.imdb.com/chart/top'"
   ]
  },
  {
   "cell_type": "code",
   "execution_count": null,
   "metadata": {},
   "outputs": [],
   "source": [
    "# your code here"
   ]
  },
  {
   "cell_type": "markdown",
   "metadata": {},
   "source": [
    "#### Display the movie name, year and a brief summary of the top 10 random movies (IMDB) as a pandas dataframe."
   ]
  },
  {
   "cell_type": "code",
   "execution_count": null,
   "metadata": {},
   "outputs": [],
   "source": [
    "#This is the url you will scrape in this exercise\n",
    "url = 'http://www.imdb.com/chart/top'"
   ]
  },
  {
   "cell_type": "code",
   "execution_count": null,
   "metadata": {},
   "outputs": [],
   "source": [
    "# your code here"
   ]
  },
  {
   "cell_type": "markdown",
   "metadata": {},
   "source": [
    "#### Find the live weather report (temperature, wind speed, description and weather) of a given city."
   ]
  },
  {
   "cell_type": "code",
   "execution_count": null,
   "metadata": {},
   "outputs": [],
   "source": [
    "#https://openweathermap.org/current\n",
    "city = input('Enter the city: ')\n",
    "url = 'http://api.openweathermap.org/data/2.5/weather?'+'q='+city+'&APPID=b35975e18dc93725acb092f7272cc6b8&units=metric'"
   ]
  },
  {
   "cell_type": "code",
   "execution_count": null,
   "metadata": {},
   "outputs": [],
   "source": [
    "# your code here"
   ]
  },
  {
   "cell_type": "markdown",
   "metadata": {},
   "source": [
    "#### Find the book name, price and stock availability as a pandas dataframe."
   ]
  },
  {
   "cell_type": "code",
   "execution_count": null,
   "metadata": {},
   "outputs": [],
   "source": [
    "# This is the url you will scrape in this exercise. \n",
    "# It is a fictional bookstore created to be scraped. \n",
    "url = 'http://books.toscrape.com/'"
   ]
  },
  {
   "cell_type": "code",
   "execution_count": null,
   "metadata": {},
   "outputs": [],
   "source": [
    "# your code here"
   ]
  }
 ],
 "metadata": {
  "kernelspec": {
   "display_name": "Python [conda env:ironhack_env]",
   "language": "python",
   "name": "conda-env-ironhack_env-py"
  },
  "language_info": {
   "codemirror_mode": {
    "name": "ipython",
    "version": 3
   },
   "file_extension": ".py",
   "mimetype": "text/x-python",
   "name": "python",
   "nbconvert_exporter": "python",
   "pygments_lexer": "ipython3",
   "version": "3.7.3"
  }
 },
 "nbformat": 4,
 "nbformat_minor": 2
}
